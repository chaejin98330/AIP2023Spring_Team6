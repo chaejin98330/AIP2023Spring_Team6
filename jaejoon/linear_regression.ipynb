{
  "cells": [
    {
      "attachments": {},
      "cell_type": "markdown",
      "metadata": {},
      "source": [
        "Training Baseline Model : Linear Regression from scikit-learn"
      ]
    },
    {
      "cell_type": "code",
      "execution_count": 187,
      "metadata": {},
      "outputs": [],
      "source": [
        "# install dependencies\n",
        "# %pip install pandas scikit-learn timm matplotlib\n",
        "# %pip install ipywidgets\n",
        "# %pip install seaborn"
      ]
    },
    {
      "cell_type": "code",
      "execution_count": 188,
      "metadata": {
        "id": "YWXJdNjmTYF-"
      },
      "outputs": [],
      "source": [
        "import pandas as pd\n",
        "import numpy as np\n",
        "import torch\n",
        "import torch.nn as nn\n",
        "import torch.nn.functional as F\n",
        "import torch.optim as optim\n",
        "from torch.utils.data import DataLoader, Dataset\n",
        "from torchvision import transforms\n",
        "import time\n",
        "import tqdm\n",
        "from tqdm.notebook import tqdm\n",
        "import matplotlib.pyplot as plt\n",
        "import pickle\n",
        "from sklearn.model_selection import train_test_split\n",
        "from PIL import Image\n",
        "import seaborn as sns"
      ]
    },
    {
      "cell_type": "code",
      "execution_count": 189,
      "metadata": {
        "id": "tgP-pcsnhB9M"
      },
      "outputs": [],
      "source": [
        "class YoutubeDataset(Dataset):\n",
        "    def __init__(self, data, doc2vec, image_option=True):\n",
        "        self.ids = list(data['video_id'])\n",
        "        self.titles = doc2vec # pretrained doc2vec features\n",
        "        self.data = data # video_id, metadata, views(y) from csv file\n",
        "        self.device = \"cuda\" if torch.cuda.is_available() else \"cpu\"\n",
        "        self.transform = transforms.ToTensor()\n",
        "        self.image_option = image_option\n",
        "\n",
        "    def __len__(self):\n",
        "        return len(self.ids)\n",
        "\n",
        "    def __getitem__(self, idx):\n",
        "        # index order of video_id, meta, y are same\n",
        "        video_id = self.ids[idx]\n",
        "        \n",
        "        if self.image_option:\n",
        "            image = Image.open('/mnt/medium_15287/{}.jpg'.format(video_id)) # load image\n",
        "            image = self.transform(image)\n",
        "            image = image.to(self.device)\n",
        "        else:\n",
        "            image = torch.zeros((3, 180, 320), dtype=torch.float)\n",
        "        \n",
        "        title = self.titles[video_id] # get video title\n",
        "        title = torch.FloatTensor(np.array(title, dtype=np.float16))\n",
        "        \n",
        "        meta = torch.FloatTensor(self.data[['period_day', 'subscriber_count']].to_numpy()[idx]) # get metadata\n",
        "        \n",
        "        y = np.log10(self.data['views'].to_numpy() + 1) # add 1 for zero views\n",
        "        y = np.expand_dims(y, axis=1) # add batch dimension\n",
        "        y = torch.FloatTensor(y[idx]) # get log10(views+1) by idx value\n",
        "        \n",
        "        return video_id, image, title, meta, y"
      ]
    },
    {
      "cell_type": "code",
      "execution_count": 190,
      "metadata": {
        "id": "uNON_uCbmLkS"
      },
      "outputs": [],
      "source": [
        "class Model(nn.Module):\n",
        "    def __init__(self, use_image=True):\n",
        "        super(Model, self).__init__()\n",
        "        self.device = \"cuda\" if torch.cuda.is_available() else \"cpu\"\n",
        "        self.fc1 = nn.Linear(172812, 1) # using image\n",
        "        self.fc2 = nn.Linear(12, 1) # not using image\n",
        "        self.use_image = use_image\n",
        "    \n",
        "    def forward(self, feature_map, title, meta):\n",
        "        if self.use_image:\n",
        "            feature_map, title, meta = feature_map.to(self.device), title.to(self.device), meta.to(self.device)\n",
        "            feature_map = torch.flatten(feature_map, start_dim=1)\n",
        "            x = torch.cat([feature_map, title, meta], dim=1)\n",
        "            x = self.fc1(x)\n",
        "            return x\n",
        "        else:\n",
        "            title, meta = title.to(self.device), meta.to(self.device)\n",
        "            x = torch.cat([title, meta], dim=1)\n",
        "            x = self.fc2(x)\n",
        "            return x\n",
        "\n",
        "    def train_(self, epochs, lr, train_loader, valid_loader, save_every):\n",
        "        self.criterion = nn.MSELoss()\n",
        "        self.optimizer = optim.Adam(self.parameters(), lr=lr)\n",
        "\n",
        "        self.train_loss_log = []\n",
        "        self.train_mse_log = []\n",
        "        self.valid_mse_log = []\n",
        "\n",
        "        best_mse = 1e100\n",
        "        best_epoch = 1\n",
        "\n",
        "        train_start = time.time()\n",
        "\n",
        "        print(\"Model will be trained on {}\\n\".format(self.device))\n",
        "\n",
        "        for epoch in range(1, epochs + 1):\n",
        "            self.train()\n",
        "            print(\"[Epoch {:3d} / {}]\".format(epoch, epochs))\n",
        "\n",
        "            epoch_start = time.time()\n",
        "            epoch_loss = 0.0\n",
        "            epoch_mse = 0.0\n",
        "            \n",
        "            #training\n",
        "            for batch_idx, batch_data in enumerate(tqdm(train_loader, desc=\"Training\")):\n",
        "                batch_video_id, batch_image, batch_title, batch_meta, batch_target = batch_data\n",
        "                batch_target = batch_target.to(self.device)\n",
        "                \n",
        "                self.optimizer.zero_grad()\n",
        "                output = self.forward(batch_image, batch_title, batch_meta)\n",
        "                loss = self.criterion(output, batch_target)\n",
        "                loss.backward()\n",
        "                self.optimizer.step()\n",
        "\n",
        "                epoch_loss += loss.item()\n",
        "                epoch_mse += loss.item()\n",
        "\n",
        "                # print('Epoch : {}, mini-batch : {}, loss : {}'.format(epoch, batch_idx, loss.item()))\n",
        "\n",
        "            epoch_end = time.time()\n",
        "            m, s = divmod(epoch_end - epoch_start, 60)\n",
        "            \n",
        "            epoch_loss /= len(train_loader)\n",
        "            epoch_mse /= len(train_loader)\n",
        "            self.train_loss_log.append(epoch_loss)\n",
        "            self.train_mse_log.append(epoch_mse)\n",
        "            \n",
        "            #validation\n",
        "            with torch.no_grad():\n",
        "                self.eval()\n",
        "                true_y, pred_y = self.predict(valid_loader)                \n",
        "                true_y = torch.FloatTensor(true_y)\n",
        "                pred_y = torch.FloatTensor(pred_y)\n",
        "                valid_mse = self.criterion(pred_y, true_y)\n",
        "                self.valid_mse_log.append(valid_mse.item())\n",
        "\n",
        "            print(\"Train MSE = {:.4f} | Valid MSE = {:.4f}\".format(epoch_mse, valid_mse))\n",
        "            print(f\"Train Time: {m:.0f}m {s:.0f}s\\n\")\n",
        "\n",
        "            valid_mse = valid_mse.item()\n",
        "            if best_mse > valid_mse:\n",
        "                print(\"=> Best Model Updated : Epoch = {}, Valid MSE = {:.4f}\\n\".format(epoch, valid_mse))\n",
        "                best_mse = valid_mse\n",
        "                best_epoch = epoch\n",
        "                torch.save(self.state_dict(), \"./best_model/best_model.pt\")\n",
        "            else:\n",
        "                print()\n",
        "\n",
        "            # save model for every ? epoch\n",
        "            if (epoch % save_every) == 0:\n",
        "                torch.save(self.state_dict(),\"./model/epoch{}_train-mse{:.4f}_valid-mse{:.4f}.pt\".format(epoch, epoch_mse, valid_mse))\n",
        "\n",
        "        m, s = divmod(time.time() - train_start, 60)\n",
        "        print(\"\\nTraining Finished...!!\")\n",
        "        print(\"\\nBest Valid MSE : %.2f at epoch %d\" % (best_mse, best_epoch))\n",
        "        print(f\"Total Time: {m:.0f}m {s:.0f}s\\nModel was trained on {self.device}!\")\n",
        "\n",
        "        torch.save(self.state_dict(),\"./model/epoch{}_train{:.4f}_valid{:.4f}.pt\".format(epoch, epoch_loss, valid_mse))\n",
        "    \n",
        "    def restore(self):\n",
        "        with open(\"./best_model/best_model.pt\", \"rb\") as f:\n",
        "            state_dict = torch.load(f)\n",
        "        self.load_state_dict(state_dict)\n",
        "\n",
        "    def predict(self, dataloader):\n",
        "        with torch.no_grad():\n",
        "            self.eval()\n",
        "            true_y = []\n",
        "            pred_y = []\n",
        "            for batch_video_id, batch_image, batch_title, batch_meta, batch_target in dataloader:\n",
        "                pred = self.forward(batch_image, batch_title, batch_meta)\n",
        "                true_y.append(batch_target.numpy())\n",
        "                pred_y.append(pred.cpu().numpy())\n",
        "            pred_y = np.concatenate(pred_y, axis=0)\n",
        "            true_y = np.concatenate(true_y, axis=0)\n",
        "        return pred_y, true_y #numpy array\n",
        "\n",
        "    def plot(self, start=0, step=1):\n",
        "        plt.figure(1)\n",
        "        plt.plot(np.array(self.train_mse_log[start::step]), \"b\", label='Train MSE')\n",
        "        plt.plot(np.array(self.valid_mse_log[start::step]), \"r\", label='Valid Mse')\n",
        "        plt.legend()\n",
        "        plt.title('MSE')\n",
        "        plt.savefig(\"./mse-graph.png\")\n",
        "        \n",
        "        plt.figure(2)\n",
        "        plt.plot(np.array(self.train_loss_log[start::step]), \"g\", label='Train Loss')\n",
        "        plt.legend()\n",
        "        plt.title('Train Loss')\n",
        "        plt.savefig(\"./loss-graph.png\")\n",
        "        \n",
        "        plt.show()\n"
      ]
    },
    {
      "cell_type": "code",
      "execution_count": 191,
      "metadata": {
        "colab": {
          "base_uri": "https://localhost:8080/"
        },
        "id": "pvFu9VQSISVM",
        "outputId": "94bee18a-4806-4ab4-a3ed-83b897b34762"
      },
      "outputs": [
        {
          "name": "stdout",
          "output_type": "stream",
          "text": [
            "/mnt\n"
          ]
        }
      ],
      "source": [
        "%cd /mnt"
      ]
    },
    {
      "cell_type": "code",
      "execution_count": 192,
      "metadata": {},
      "outputs": [],
      "source": [
        "train_data = pd.read_csv('./train.csv')\n",
        "test_data = pd.read_csv('./test.csv')"
      ]
    },
    {
      "cell_type": "code",
      "execution_count": 193,
      "metadata": {},
      "outputs": [
        {
          "name": "stdout",
          "output_type": "stream",
          "text": [
            "Train Data Statistics before Normalization\n",
            "mean period :  335.83891836883043\n",
            "std period :  497.77141615927457\n",
            "mean subscriber :  1784439.962419132\n",
            "std subscriber :  3833901.649291374\n"
          ]
        },
        {
          "data": {
            "image/png": "[encoded data removed]",
            "text/plain": [
              "<Figure size 500x500 with 1 Axes>"
            ]
          },
          "metadata": {},
          "output_type": "display_data"
        },
        {
          "data": {
            "image/png": "[encoded data removed]",
            "text/plain": [
              "<Figure size 500x500 with 1 Axes>"
            ]
          },
          "metadata": {},
          "output_type": "display_data"
        }
      ],
      "source": [
        "# before normalization\n",
        "sns.displot(train_data[\"period_day\"])\n",
        "sns.displot(train_data[\"subscriber_count\"])\n",
        "\n",
        "mean_period = train_data['period_day'].mean()\n",
        "std_period = train_data['period_day'].std()\n",
        "mean_subscriber = train_data['subscriber_count'].mean()\n",
        "std_subscriber = train_data['subscriber_count'].std()\n",
        "\n",
        "print('Train Data Statistics before Normalization')\n",
        "print(\"mean period : \", mean_period)\n",
        "print(\"std period : \", std_period)\n",
        "print(\"mean subscriber : \", mean_subscriber)\n",
        "print(\"std subscriber : \", std_subscriber)"
      ]
    },
    {
      "cell_type": "code",
      "execution_count": 194,
      "metadata": {},
      "outputs": [],
      "source": [
        "# train data nomarlization\n",
        "train_data['period_day'] = (train_data['period_day'] - mean_period) / std_period\n",
        "train_data['subscriber_count'] = (train_data['subscriber_count'] - mean_subscriber) / std_subscriber\n",
        "\n",
        "# test data nomarlization\n",
        "test_data['period_day'] = (test_data['period_day'] - mean_period) / std_period\n",
        "test_data['subscriber_count'] = (test_data['subscriber_count'] - mean_subscriber) / std_subscriber"
      ]
    },
    {
      "cell_type": "code",
      "execution_count": 195,
      "metadata": {},
      "outputs": [
        {
          "name": "stdout",
          "output_type": "stream",
          "text": [
            "Train Data Statistics after Normalization\n",
            "mean period :  -5.784748593816327e-17\n",
            "std period :  1.0\n",
            "mean subscriber :  2.685776132843295e-17\n",
            "std subscriber :  1.0\n"
          ]
        },
        {
          "data": {
            "image/png": "[encoded data removed]",
            "text/plain": [
              "<Figure size 500x500 with 1 Axes>"
            ]
          },
          "metadata": {},
          "output_type": "display_data"
        },
        {
          "data": {
            "image/png": "[encoded data removed]",
            "text/plain": [
              "<Figure size 500x500 with 1 Axes>"
            ]
          },
          "metadata": {},
          "output_type": "display_data"
        }
      ],
      "source": [
        "# after normalization\n",
        "sns.displot(train_data[\"period_day\"])\n",
        "sns.displot(train_data[\"subscriber_count\"])\n",
        "\n",
        "mean_period = train_data['period_day'].mean()\n",
        "std_period = train_data['period_day'].std()\n",
        "mean_subscriber = train_data['subscriber_count'].mean()\n",
        "std_subscriber = train_data['subscriber_count'].std()\n",
        "\n",
        "print('Train Data Statistics after Normalization')\n",
        "print(\"mean period : \", mean_period)\n",
        "print(\"std period : \", std_period)\n",
        "print(\"mean subscriber : \", mean_subscriber)\n",
        "print(\"std subscriber : \", std_subscriber)"
      ]
    },
    {
      "cell_type": "code",
      "execution_count": 196,
      "metadata": {},
      "outputs": [
        {
          "name": "stdout",
          "output_type": "stream",
          "text": [
            "Train Dataset Size :  12381\n",
            "Validation Dataset Size :  1376\n",
            "Test Dataset Size :  1529\n"
          ]
        }
      ],
      "source": [
        "# split train -> train : valid = 9 : 1\n",
        "train_data, valid_data = train_test_split(train_data, test_size = 0.1, random_state = 55)\n",
        "print('Train Dataset Size : ',len(train_data))\n",
        "print('Validation Dataset Size : ',len(valid_data))\n",
        "print('Test Dataset Size : ',len(test_data))"
      ]
    },
    {
      "cell_type": "code",
      "execution_count": 197,
      "metadata": {},
      "outputs": [
        {
          "name": "stdout",
          "output_type": "stream",
          "text": [
            "15287\n"
          ]
        }
      ],
      "source": [
        "# open doc2vec data and convert to dict\n",
        "with open('./title_doc2vec_10', 'rb') as f:\n",
        "    doc2vec = pickle.load(f)\n",
        "\n",
        "data_dict=dict()\n",
        "for row in doc2vec:\n",
        "    vid=row[0]\n",
        "    vec=row[1:]\n",
        "    data_dict[vid]=vec\n",
        "\n",
        "doc2vec = data_dict\n",
        "print(len(doc2vec))"
      ]
    },
    {
      "cell_type": "code",
      "execution_count": 198,
      "metadata": {
        "id": "RaVBtO6gmibN"
      },
      "outputs": [],
      "source": [
        "#setting hyper parameters\n",
        "batch_size = 64\n",
        "epochs = 100\n",
        "lr = 1e-5\n",
        "save_every = 5"
      ]
    },
    {
      "cell_type": "code",
      "execution_count": 199,
      "metadata": {
        "id": "_d3vE8CgwOQK"
      },
      "outputs": [],
      "source": [
        "train_dataset = YoutubeDataset(train_data, doc2vec)\n",
        "valid_dataset = YoutubeDataset(valid_data, doc2vec)\n",
        "test_dataset = YoutubeDataset(test_data, doc2vec)\n",
        "\n",
        "train_loader = DataLoader(train_dataset, batch_size = batch_size, shuffle=True)\n",
        "valid_loader = DataLoader(valid_dataset, batch_size = batch_size)\n",
        "test_loader = DataLoader(test_dataset, batch_size = batch_size)"
      ]
    },
    {
      "cell_type": "code",
      "execution_count": 200,
      "metadata": {
        "id": "Vn1sTA9K-DBX"
      },
      "outputs": [
        {
          "name": "stdout",
          "output_type": "stream",
          "text": [
            "Model will be trained on cuda\n",
            "\n",
            "[Epoch   1 / 100]\n"
          ]
        },
        {
          "data": {
            "application/vnd.jupyter.widget-view+json": {
              "model_id": "c82b219c1c044fa280f7839841cd2cad",
              "version_major": 2,
              "version_minor": 0
            },
            "text/plain": [
              "Training:   0%|          | 0/194 [00:00<?, ?it/s]"
            ]
          },
          "metadata": {},
          "output_type": "display_data"
        },
        {
          "name": "stdout",
          "output_type": "stream",
          "text": [
            "Train MSE = 3.2080 | Valid MSE = 2.7576\n",
            "Train Time: 1m 16s\n",
            "\n",
            "=> Best Model Updated : Epoch = 1, Valid MSE = 2.7576\n",
            "\n",
            "[Epoch   2 / 100]\n"
          ]
        },
        {
          "data": {
            "application/vnd.jupyter.widget-view+json": {
              "model_id": "a886c7117c3a4ae69504b70cd16a1073",
              "version_major": 2,
              "version_minor": 0
            },
            "text/plain": [
              "Training:   0%|          | 0/194 [00:00<?, ?it/s]"
            ]
          },
          "metadata": {},
          "output_type": "display_data"
        },
        {
          "name": "stdout",
          "output_type": "stream",
          "text": [
            "Train MSE = 2.5969 | Valid MSE = 2.6985\n",
            "Train Time: 1m 15s\n",
            "\n",
            "=> Best Model Updated : Epoch = 2, Valid MSE = 2.6985\n",
            "\n",
            "[Epoch   3 / 100]\n"
          ]
        },
        {
          "data": {
            "application/vnd.jupyter.widget-view+json": {
              "model_id": "a58413317a0248dc85e6524bf4cd1532",
              "version_major": 2,
              "version_minor": 0
            },
            "text/plain": [
              "Training:   0%|          | 0/194 [00:00<?, ?it/s]"
            ]
          },
          "metadata": {},
          "output_type": "display_data"
        },
        {
          "name": "stdout",
          "output_type": "stream",
          "text": [
            "Train MSE = 2.5630 | Valid MSE = 2.7781\n",
            "Train Time: 1m 15s\n",
            "\n",
            "\n",
            "[Epoch   4 / 100]\n"
          ]
        },
        {
          "data": {
            "application/vnd.jupyter.widget-view+json": {
              "model_id": "cdb571cdadcb4d30a78a298cc1976afc",
              "version_major": 2,
              "version_minor": 0
            },
            "text/plain": [
              "Training:   0%|          | 0/194 [00:00<?, ?it/s]"
            ]
          },
          "metadata": {},
          "output_type": "display_data"
        },
        {
          "name": "stdout",
          "output_type": "stream",
          "text": [
            "Train MSE = 2.5080 | Valid MSE = 2.6476\n",
            "Train Time: 1m 15s\n",
            "\n",
            "=> Best Model Updated : Epoch = 4, Valid MSE = 2.6476\n",
            "\n",
            "[Epoch   5 / 100]\n"
          ]
        },
        {
          "data": {
            "application/vnd.jupyter.widget-view+json": {
              "model_id": "1089d6234b4441ad8b3aa9223e99bdd9",
              "version_major": 2,
              "version_minor": 0
            },
            "text/plain": [
              "Training:   0%|          | 0/194 [00:00<?, ?it/s]"
            ]
          },
          "metadata": {},
          "output_type": "display_data"
        },
        {
          "name": "stdout",
          "output_type": "stream",
          "text": [
            "Train MSE = 2.4780 | Valid MSE = 2.6184\n",
            "Train Time: 1m 15s\n",
            "\n",
            "=> Best Model Updated : Epoch = 5, Valid MSE = 2.6184\n",
            "\n",
            "[Epoch   6 / 100]\n"
          ]
        },
        {
          "data": {
            "application/vnd.jupyter.widget-view+json": {
              "model_id": "847fac6a7fa0453580a94958b819fecd",
              "version_major": 2,
              "version_minor": 0
            },
            "text/plain": [
              "Training:   0%|          | 0/194 [00:00<?, ?it/s]"
            ]
          },
          "metadata": {},
          "output_type": "display_data"
        },
        {
          "name": "stdout",
          "output_type": "stream",
          "text": [
            "Train MSE = 2.4587 | Valid MSE = 2.6352\n",
            "Train Time: 1m 15s\n",
            "\n",
            "\n",
            "[Epoch   7 / 100]\n"
          ]
        },
        {
          "data": {
            "application/vnd.jupyter.widget-view+json": {
              "model_id": "15c31e27f98e4591a63e685ec4023ded",
              "version_major": 2,
              "version_minor": 0
            },
            "text/plain": [
              "Training:   0%|          | 0/194 [00:00<?, ?it/s]"
            ]
          },
          "metadata": {},
          "output_type": "display_data"
        },
        {
          "name": "stdout",
          "output_type": "stream",
          "text": [
            "Train MSE = 2.4157 | Valid MSE = 2.6372\n",
            "Train Time: 1m 14s\n",
            "\n",
            "\n",
            "[Epoch   8 / 100]\n"
          ]
        },
        {
          "data": {
            "application/vnd.jupyter.widget-view+json": {
              "model_id": "942fa17da11240729c2a0e6b78be0c49",
              "version_major": 2,
              "version_minor": 0
            },
            "text/plain": [
              "Training:   0%|          | 0/194 [00:00<?, ?it/s]"
            ]
          },
          "metadata": {},
          "output_type": "display_data"
        },
        {
          "name": "stdout",
          "output_type": "stream",
          "text": [
            "Train MSE = 2.3878 | Valid MSE = 2.6339\n",
            "Train Time: 1m 14s\n",
            "\n",
            "\n",
            "[Epoch   9 / 100]\n"
          ]
        },
        {
          "data": {
            "application/vnd.jupyter.widget-view+json": {
              "model_id": "d9ddd38e52f44d31bbffa7bbf49054a5",
              "version_major": 2,
              "version_minor": 0
            },
            "text/plain": [
              "Training:   0%|          | 0/194 [00:00<?, ?it/s]"
            ]
          },
          "metadata": {},
          "output_type": "display_data"
        },
        {
          "name": "stdout",
          "output_type": "stream",
          "text": [
            "Train MSE = 2.3742 | Valid MSE = 2.6728\n",
            "Train Time: 1m 14s\n",
            "\n",
            "\n",
            "[Epoch  10 / 100]\n"
          ]
        },
        {
          "data": {
            "application/vnd.jupyter.widget-view+json": {
              "model_id": "2b1d389839074854a1220e86de961cef",
              "version_major": 2,
              "version_minor": 0
            },
            "text/plain": [
              "Training:   0%|          | 0/194 [00:00<?, ?it/s]"
            ]
          },
          "metadata": {},
          "output_type": "display_data"
        },
        {
          "name": "stdout",
          "output_type": "stream",
          "text": [
            "Train MSE = 2.3340 | Valid MSE = 2.6895\n",
            "Train Time: 1m 13s\n",
            "\n",
            "\n",
            "[Epoch  11 / 100]\n"
          ]
        },
        {
          "data": {
            "application/vnd.jupyter.widget-view+json": {
              "model_id": "cf49df8275cc4c82b53d845ebb5a6104",
              "version_major": 2,
              "version_minor": 0
            },
            "text/plain": [
              "Training:   0%|          | 0/194 [00:00<?, ?it/s]"
            ]
          },
          "metadata": {},
          "output_type": "display_data"
        },
        {
          "name": "stdout",
          "output_type": "stream",
          "text": [
            "Train MSE = 2.3276 | Valid MSE = 2.6430\n",
            "Train Time: 1m 18s\n",
            "\n",
            "\n",
            "[Epoch  12 / 100]\n"
          ]
        },
        {
          "data": {
            "application/vnd.jupyter.widget-view+json": {
              "model_id": "81d5684ee5944806b6b916d7d71998d9",
              "version_major": 2,
              "version_minor": 0
            },
            "text/plain": [
              "Training:   0%|          | 0/194 [00:00<?, ?it/s]"
            ]
          },
          "metadata": {},
          "output_type": "display_data"
        },
        {
          "name": "stdout",
          "output_type": "stream",
          "text": [
            "Train MSE = 2.2877 | Valid MSE = 2.7755\n",
            "Train Time: 1m 16s\n",
            "\n",
            "\n",
            "[Epoch  13 / 100]\n"
          ]
        },
        {
          "data": {
            "application/vnd.jupyter.widget-view+json": {
              "model_id": "1149b167900a4d87ac9b207bcd2340c3",
              "version_major": 2,
              "version_minor": 0
            },
            "text/plain": [
              "Training:   0%|          | 0/194 [00:00<?, ?it/s]"
            ]
          },
          "metadata": {},
          "output_type": "display_data"
        },
        {
          "name": "stdout",
          "output_type": "stream",
          "text": [
            "Train MSE = 2.2815 | Valid MSE = 2.5855\n",
            "Train Time: 1m 15s\n",
            "\n",
            "=> Best Model Updated : Epoch = 13, Valid MSE = 2.5855\n",
            "\n",
            "[Epoch  14 / 100]\n"
          ]
        },
        {
          "data": {
            "application/vnd.jupyter.widget-view+json": {
              "model_id": "7c31883d205849b9a0d5f5665adf3535",
              "version_major": 2,
              "version_minor": 0
            },
            "text/plain": [
              "Training:   0%|          | 0/194 [00:00<?, ?it/s]"
            ]
          },
          "metadata": {},
          "output_type": "display_data"
        },
        {
          "name": "stdout",
          "output_type": "stream",
          "text": [
            "Train MSE = 2.3036 | Valid MSE = 2.7509\n",
            "Train Time: 1m 16s\n",
            "\n",
            "\n",
            "[Epoch  15 / 100]\n"
          ]
        },
        {
          "data": {
            "application/vnd.jupyter.widget-view+json": {
              "model_id": "14f85945d3174b05969cb4e9410b1553",
              "version_major": 2,
              "version_minor": 0
            },
            "text/plain": [
              "Training:   0%|          | 0/194 [00:00<?, ?it/s]"
            ]
          },
          "metadata": {},
          "output_type": "display_data"
        },
        {
          "name": "stdout",
          "output_type": "stream",
          "text": [
            "Train MSE = 2.2215 | Valid MSE = 2.6872\n",
            "Train Time: 1m 16s\n",
            "\n",
            "\n",
            "[Epoch  16 / 100]\n"
          ]
        },
        {
          "data": {
            "application/vnd.jupyter.widget-view+json": {
              "model_id": "2d56ff3ccb23478ab3442b6baef1d7c6",
              "version_major": 2,
              "version_minor": 0
            },
            "text/plain": [
              "Training:   0%|          | 0/194 [00:00<?, ?it/s]"
            ]
          },
          "metadata": {},
          "output_type": "display_data"
        },
        {
          "name": "stdout",
          "output_type": "stream",
          "text": [
            "Train MSE = 2.2057 | Valid MSE = 2.6522\n",
            "Train Time: 1m 15s\n",
            "\n",
            "\n",
            "[Epoch  17 / 100]\n"
          ]
        },
        {
          "data": {
            "application/vnd.jupyter.widget-view+json": {
              "model_id": "f973fed09ad44a95a780830863754c3b",
              "version_major": 2,
              "version_minor": 0
            },
            "text/plain": [
              "Training:   0%|          | 0/194 [00:00<?, ?it/s]"
            ]
          },
          "metadata": {},
          "output_type": "display_data"
        },
        {
          "name": "stdout",
          "output_type": "stream",
          "text": [
            "Train MSE = 2.1843 | Valid MSE = 2.7891\n",
            "Train Time: 1m 16s\n",
            "\n",
            "\n",
            "[Epoch  18 / 100]\n"
          ]
        },
        {
          "data": {
            "application/vnd.jupyter.widget-view+json": {
              "model_id": "a6a1b59dad794948865cccbe4ff8c8d2",
              "version_major": 2,
              "version_minor": 0
            },
            "text/plain": [
              "Training:   0%|          | 0/194 [00:00<?, ?it/s]"
            ]
          },
          "metadata": {},
          "output_type": "display_data"
        },
        {
          "name": "stdout",
          "output_type": "stream",
          "text": [
            "Train MSE = 2.1890 | Valid MSE = 2.6399\n",
            "Train Time: 1m 16s\n",
            "\n",
            "\n",
            "[Epoch  19 / 100]\n"
          ]
        },
        {
          "data": {
            "application/vnd.jupyter.widget-view+json": {
              "model_id": "0e7c433788274411b4ec79d5c7c7f154",
              "version_major": 2,
              "version_minor": 0
            },
            "text/plain": [
              "Training:   0%|          | 0/194 [00:00<?, ?it/s]"
            ]
          },
          "metadata": {},
          "output_type": "display_data"
        },
        {
          "name": "stdout",
          "output_type": "stream",
          "text": [
            "Train MSE = 2.1284 | Valid MSE = 2.6147\n",
            "Train Time: 1m 15s\n",
            "\n",
            "\n",
            "[Epoch  20 / 100]\n"
          ]
        },
        {
          "data": {
            "application/vnd.jupyter.widget-view+json": {
              "model_id": "7dd04ca6755249cd8a6431faf2125d7b",
              "version_major": 2,
              "version_minor": 0
            },
            "text/plain": [
              "Training:   0%|          | 0/194 [00:00<?, ?it/s]"
            ]
          },
          "metadata": {},
          "output_type": "display_data"
        },
        {
          "name": "stdout",
          "output_type": "stream",
          "text": [
            "Train MSE = 2.1195 | Valid MSE = 2.5774\n",
            "Train Time: 1m 16s\n",
            "\n",
            "=> Best Model Updated : Epoch = 20, Valid MSE = 2.5774\n",
            "\n",
            "[Epoch  21 / 100]\n"
          ]
        },
        {
          "data": {
            "application/vnd.jupyter.widget-view+json": {
              "model_id": "2f788df079ad46b2a40136feff1d082d",
              "version_major": 2,
              "version_minor": 0
            },
            "text/plain": [
              "Training:   0%|          | 0/194 [00:00<?, ?it/s]"
            ]
          },
          "metadata": {},
          "output_type": "display_data"
        },
        {
          "name": "stdout",
          "output_type": "stream",
          "text": [
            "Train MSE = 2.1101 | Valid MSE = 2.6869\n",
            "Train Time: 1m 15s\n",
            "\n",
            "\n",
            "[Epoch  22 / 100]\n"
          ]
        },
        {
          "data": {
            "application/vnd.jupyter.widget-view+json": {
              "model_id": "f17e78908c6b4a91867b5e297996ebf5",
              "version_major": 2,
              "version_minor": 0
            },
            "text/plain": [
              "Training:   0%|          | 0/194 [00:00<?, ?it/s]"
            ]
          },
          "metadata": {},
          "output_type": "display_data"
        },
        {
          "name": "stdout",
          "output_type": "stream",
          "text": [
            "Train MSE = 2.1271 | Valid MSE = 2.5846\n",
            "Train Time: 1m 16s\n",
            "\n",
            "\n",
            "[Epoch  23 / 100]\n"
          ]
        },
        {
          "data": {
            "application/vnd.jupyter.widget-view+json": {
              "model_id": "fd5b0aeb71bd40b28d16b16e0b00a7b8",
              "version_major": 2,
              "version_minor": 0
            },
            "text/plain": [
              "Training:   0%|          | 0/194 [00:00<?, ?it/s]"
            ]
          },
          "metadata": {},
          "output_type": "display_data"
        },
        {
          "name": "stdout",
          "output_type": "stream",
          "text": [
            "Train MSE = 2.0788 | Valid MSE = 2.6002\n",
            "Train Time: 1m 16s\n",
            "\n",
            "\n",
            "[Epoch  24 / 100]\n"
          ]
        },
        {
          "data": {
            "application/vnd.jupyter.widget-view+json": {
              "model_id": "f243b5ad3cc349129d81f9e930369692",
              "version_major": 2,
              "version_minor": 0
            },
            "text/plain": [
              "Training:   0%|          | 0/194 [00:00<?, ?it/s]"
            ]
          },
          "metadata": {},
          "output_type": "display_data"
        },
        {
          "name": "stdout",
          "output_type": "stream",
          "text": [
            "Train MSE = 2.0601 | Valid MSE = 2.5956\n",
            "Train Time: 1m 16s\n",
            "\n",
            "\n",
            "[Epoch  25 / 100]\n"
          ]
        },
        {
          "data": {
            "application/vnd.jupyter.widget-view+json": {
              "model_id": "60df5830efd04fd99cbc66f0062c55ee",
              "version_major": 2,
              "version_minor": 0
            },
            "text/plain": [
              "Training:   0%|          | 0/194 [00:00<?, ?it/s]"
            ]
          },
          "metadata": {},
          "output_type": "display_data"
        },
        {
          "name": "stdout",
          "output_type": "stream",
          "text": [
            "Train MSE = 2.0139 | Valid MSE = 2.5831\n",
            "Train Time: 1m 16s\n",
            "\n",
            "\n",
            "[Epoch  26 / 100]\n"
          ]
        },
        {
          "data": {
            "application/vnd.jupyter.widget-view+json": {
              "model_id": "9cf7f8ab68e24a8d92cb6c3b203ec518",
              "version_major": 2,
              "version_minor": 0
            },
            "text/plain": [
              "Training:   0%|          | 0/194 [00:00<?, ?it/s]"
            ]
          },
          "metadata": {},
          "output_type": "display_data"
        },
        {
          "name": "stdout",
          "output_type": "stream",
          "text": [
            "Train MSE = 2.0228 | Valid MSE = 2.5465\n",
            "Train Time: 1m 17s\n",
            "\n",
            "=> Best Model Updated : Epoch = 26, Valid MSE = 2.5465\n",
            "\n",
            "[Epoch  27 / 100]\n"
          ]
        },
        {
          "data": {
            "application/vnd.jupyter.widget-view+json": {
              "model_id": "3dfebb701b75499d8982a55ff76e2f10",
              "version_major": 2,
              "version_minor": 0
            },
            "text/plain": [
              "Training:   0%|          | 0/194 [00:00<?, ?it/s]"
            ]
          },
          "metadata": {},
          "output_type": "display_data"
        },
        {
          "name": "stdout",
          "output_type": "stream",
          "text": [
            "Train MSE = 1.9850 | Valid MSE = 2.5525\n",
            "Train Time: 1m 17s\n",
            "\n",
            "\n",
            "[Epoch  28 / 100]\n"
          ]
        },
        {
          "data": {
            "application/vnd.jupyter.widget-view+json": {
              "model_id": "3ace84b100d64f0881a7bac492c36c20",
              "version_major": 2,
              "version_minor": 0
            },
            "text/plain": [
              "Training:   0%|          | 0/194 [00:00<?, ?it/s]"
            ]
          },
          "metadata": {},
          "output_type": "display_data"
        },
        {
          "name": "stdout",
          "output_type": "stream",
          "text": [
            "Train MSE = 1.9865 | Valid MSE = 2.5413\n",
            "Train Time: 1m 17s\n",
            "\n",
            "=> Best Model Updated : Epoch = 28, Valid MSE = 2.5413\n",
            "\n",
            "[Epoch  29 / 100]\n"
          ]
        },
        {
          "data": {
            "application/vnd.jupyter.widget-view+json": {
              "model_id": "35f50ea271e543d6a7c21f4609501b36",
              "version_major": 2,
              "version_minor": 0
            },
            "text/plain": [
              "Training:   0%|          | 0/194 [00:00<?, ?it/s]"
            ]
          },
          "metadata": {},
          "output_type": "display_data"
        },
        {
          "name": "stdout",
          "output_type": "stream",
          "text": [
            "Train MSE = 1.9686 | Valid MSE = 2.5598\n",
            "Train Time: 1m 17s\n",
            "\n",
            "\n",
            "[Epoch  30 / 100]\n"
          ]
        },
        {
          "data": {
            "application/vnd.jupyter.widget-view+json": {
              "model_id": "aa3c3a0bd76f430fb4f76514dc8e6a13",
              "version_major": 2,
              "version_minor": 0
            },
            "text/plain": [
              "Training:   0%|          | 0/194 [00:00<?, ?it/s]"
            ]
          },
          "metadata": {},
          "output_type": "display_data"
        },
        {
          "name": "stdout",
          "output_type": "stream",
          "text": [
            "Train MSE = 1.9481 | Valid MSE = 2.7252\n",
            "Train Time: 1m 17s\n",
            "\n",
            "\n",
            "[Epoch  31 / 100]\n"
          ]
        },
        {
          "data": {
            "application/vnd.jupyter.widget-view+json": {
              "model_id": "807ebd8c288f4bdaa5c3f40ed772d02d",
              "version_major": 2,
              "version_minor": 0
            },
            "text/plain": [
              "Training:   0%|          | 0/194 [00:00<?, ?it/s]"
            ]
          },
          "metadata": {},
          "output_type": "display_data"
        },
        {
          "name": "stdout",
          "output_type": "stream",
          "text": [
            "Train MSE = 1.9650 | Valid MSE = 2.5448\n",
            "Train Time: 1m 17s\n",
            "\n",
            "\n",
            "[Epoch  32 / 100]\n"
          ]
        },
        {
          "data": {
            "application/vnd.jupyter.widget-view+json": {
              "model_id": "c894a0fee973405c8f7b975dcab864f8",
              "version_major": 2,
              "version_minor": 0
            },
            "text/plain": [
              "Training:   0%|          | 0/194 [00:00<?, ?it/s]"
            ]
          },
          "metadata": {},
          "output_type": "display_data"
        },
        {
          "name": "stdout",
          "output_type": "stream",
          "text": [
            "Train MSE = 1.9334 | Valid MSE = 2.5461\n",
            "Train Time: 1m 17s\n",
            "\n",
            "\n",
            "[Epoch  33 / 100]\n"
          ]
        },
        {
          "data": {
            "application/vnd.jupyter.widget-view+json": {
              "model_id": "c2bba97ecdfa4581bde13e0d0f603066",
              "version_major": 2,
              "version_minor": 0
            },
            "text/plain": [
              "Training:   0%|          | 0/194 [00:00<?, ?it/s]"
            ]
          },
          "metadata": {},
          "output_type": "display_data"
        },
        {
          "name": "stdout",
          "output_type": "stream",
          "text": [
            "Train MSE = 1.9015 | Valid MSE = 2.5276\n",
            "Train Time: 1m 17s\n",
            "\n",
            "=> Best Model Updated : Epoch = 33, Valid MSE = 2.5276\n",
            "\n",
            "[Epoch  34 / 100]\n"
          ]
        },
        {
          "data": {
            "application/vnd.jupyter.widget-view+json": {
              "model_id": "e24e68ea44204654aeaf216e4537b1a2",
              "version_major": 2,
              "version_minor": 0
            },
            "text/plain": [
              "Training:   0%|          | 0/194 [00:00<?, ?it/s]"
            ]
          },
          "metadata": {},
          "output_type": "display_data"
        },
        {
          "name": "stdout",
          "output_type": "stream",
          "text": [
            "Train MSE = 1.8763 | Valid MSE = 2.5398\n",
            "Train Time: 1m 17s\n",
            "\n",
            "\n",
            "[Epoch  35 / 100]\n"
          ]
        },
        {
          "data": {
            "application/vnd.jupyter.widget-view+json": {
              "model_id": "59616e31f5f74663be0bde9d09e7fa79",
              "version_major": 2,
              "version_minor": 0
            },
            "text/plain": [
              "Training:   0%|          | 0/194 [00:00<?, ?it/s]"
            ]
          },
          "metadata": {},
          "output_type": "display_data"
        },
        {
          "name": "stdout",
          "output_type": "stream",
          "text": [
            "Train MSE = 1.8757 | Valid MSE = 2.5495\n",
            "Train Time: 1m 17s\n",
            "\n",
            "\n",
            "[Epoch  36 / 100]\n"
          ]
        },
        {
          "data": {
            "application/vnd.jupyter.widget-view+json": {
              "model_id": "79167bbbe7284a51a8b438ddde93d27d",
              "version_major": 2,
              "version_minor": 0
            },
            "text/plain": [
              "Training:   0%|          | 0/194 [00:00<?, ?it/s]"
            ]
          },
          "metadata": {},
          "output_type": "display_data"
        },
        {
          "name": "stdout",
          "output_type": "stream",
          "text": [
            "Train MSE = 1.8436 | Valid MSE = 2.7105\n",
            "Train Time: 1m 17s\n",
            "\n",
            "\n",
            "[Epoch  37 / 100]\n"
          ]
        },
        {
          "data": {
            "application/vnd.jupyter.widget-view+json": {
              "model_id": "1ea1a841fb804c84a858d002aee927f2",
              "version_major": 2,
              "version_minor": 0
            },
            "text/plain": [
              "Training:   0%|          | 0/194 [00:00<?, ?it/s]"
            ]
          },
          "metadata": {},
          "output_type": "display_data"
        },
        {
          "name": "stdout",
          "output_type": "stream",
          "text": [
            "Train MSE = 1.8413 | Valid MSE = 2.5436\n",
            "Train Time: 1m 17s\n",
            "\n",
            "\n",
            "[Epoch  38 / 100]\n"
          ]
        },
        {
          "data": {
            "application/vnd.jupyter.widget-view+json": {
              "model_id": "8f86454aecb24fa48e158385ba7c4513",
              "version_major": 2,
              "version_minor": 0
            },
            "text/plain": [
              "Training:   0%|          | 0/194 [00:00<?, ?it/s]"
            ]
          },
          "metadata": {},
          "output_type": "display_data"
        },
        {
          "name": "stdout",
          "output_type": "stream",
          "text": [
            "Train MSE = 1.8239 | Valid MSE = 2.5469\n",
            "Train Time: 1m 16s\n",
            "\n",
            "\n",
            "[Epoch  39 / 100]\n"
          ]
        },
        {
          "data": {
            "application/vnd.jupyter.widget-view+json": {
              "model_id": "5fc56ac8333645549cd9158aae6a25ed",
              "version_major": 2,
              "version_minor": 0
            },
            "text/plain": [
              "Training:   0%|          | 0/194 [00:00<?, ?it/s]"
            ]
          },
          "metadata": {},
          "output_type": "display_data"
        },
        {
          "name": "stdout",
          "output_type": "stream",
          "text": [
            "Train MSE = 1.8435 | Valid MSE = 2.5300\n",
            "Train Time: 1m 16s\n",
            "\n",
            "\n",
            "[Epoch  40 / 100]\n"
          ]
        },
        {
          "data": {
            "application/vnd.jupyter.widget-view+json": {
              "model_id": "a0912f07fefb472a88077fe2e89bbbb0",
              "version_major": 2,
              "version_minor": 0
            },
            "text/plain": [
              "Training:   0%|          | 0/194 [00:00<?, ?it/s]"
            ]
          },
          "metadata": {},
          "output_type": "display_data"
        },
        {
          "name": "stdout",
          "output_type": "stream",
          "text": [
            "Train MSE = 1.7997 | Valid MSE = 2.5342\n",
            "Train Time: 1m 17s\n",
            "\n",
            "\n",
            "[Epoch  41 / 100]\n"
          ]
        },
        {
          "data": {
            "application/vnd.jupyter.widget-view+json": {
              "model_id": "c720d0158edf472187d13d2e20943140",
              "version_major": 2,
              "version_minor": 0
            },
            "text/plain": [
              "Training:   0%|          | 0/194 [00:00<?, ?it/s]"
            ]
          },
          "metadata": {},
          "output_type": "display_data"
        },
        {
          "name": "stdout",
          "output_type": "stream",
          "text": [
            "Train MSE = 1.7875 | Valid MSE = 2.5388\n",
            "Train Time: 1m 16s\n",
            "\n",
            "\n",
            "[Epoch  42 / 100]\n"
          ]
        },
        {
          "data": {
            "application/vnd.jupyter.widget-view+json": {
              "model_id": "6aba2a7bc28946a3b241b126ce172187",
              "version_major": 2,
              "version_minor": 0
            },
            "text/plain": [
              "Training:   0%|          | 0/194 [00:00<?, ?it/s]"
            ]
          },
          "metadata": {},
          "output_type": "display_data"
        },
        {
          "name": "stdout",
          "output_type": "stream",
          "text": [
            "Train MSE = 1.7739 | Valid MSE = 2.5142\n",
            "Train Time: 1m 16s\n",
            "\n",
            "=> Best Model Updated : Epoch = 42, Valid MSE = 2.5142\n",
            "\n",
            "[Epoch  43 / 100]\n"
          ]
        },
        {
          "data": {
            "application/vnd.jupyter.widget-view+json": {
              "model_id": "6a44357371a04042a2e0d997ff3ffcc6",
              "version_major": 2,
              "version_minor": 0
            },
            "text/plain": [
              "Training:   0%|          | 0/194 [00:00<?, ?it/s]"
            ]
          },
          "metadata": {},
          "output_type": "display_data"
        },
        {
          "name": "stdout",
          "output_type": "stream",
          "text": [
            "Train MSE = 1.7758 | Valid MSE = 2.5191\n",
            "Train Time: 1m 16s\n",
            "\n",
            "\n",
            "[Epoch  44 / 100]\n"
          ]
        },
        {
          "data": {
            "application/vnd.jupyter.widget-view+json": {
              "model_id": "90b332f5407d484d9e5f51fc78de5e0a",
              "version_major": 2,
              "version_minor": 0
            },
            "text/plain": [
              "Training:   0%|          | 0/194 [00:00<?, ?it/s]"
            ]
          },
          "metadata": {},
          "output_type": "display_data"
        },
        {
          "name": "stdout",
          "output_type": "stream",
          "text": [
            "Train MSE = 1.7487 | Valid MSE = 2.6822\n",
            "Train Time: 1m 17s\n",
            "\n",
            "\n",
            "[Epoch  45 / 100]\n"
          ]
        },
        {
          "data": {
            "application/vnd.jupyter.widget-view+json": {
              "model_id": "1232531ceeb54d918ed06cf72e2f8863",
              "version_major": 2,
              "version_minor": 0
            },
            "text/plain": [
              "Training:   0%|          | 0/194 [00:00<?, ?it/s]"
            ]
          },
          "metadata": {},
          "output_type": "display_data"
        },
        {
          "name": "stdout",
          "output_type": "stream",
          "text": [
            "Train MSE = 1.7364 | Valid MSE = 2.5108\n",
            "Train Time: 1m 16s\n",
            "\n",
            "=> Best Model Updated : Epoch = 45, Valid MSE = 2.5108\n",
            "\n",
            "[Epoch  46 / 100]\n"
          ]
        },
        {
          "data": {
            "application/vnd.jupyter.widget-view+json": {
              "model_id": "2ce914c503db43d087dec8b991f2b97d",
              "version_major": 2,
              "version_minor": 0
            },
            "text/plain": [
              "Training:   0%|          | 0/194 [00:00<?, ?it/s]"
            ]
          },
          "metadata": {},
          "output_type": "display_data"
        },
        {
          "name": "stdout",
          "output_type": "stream",
          "text": [
            "Train MSE = 1.7309 | Valid MSE = 2.5691\n",
            "Train Time: 1m 16s\n",
            "\n",
            "\n",
            "[Epoch  47 / 100]\n"
          ]
        },
        {
          "data": {
            "application/vnd.jupyter.widget-view+json": {
              "model_id": "71b29954b4c14c05b27bf35198f122e3",
              "version_major": 2,
              "version_minor": 0
            },
            "text/plain": [
              "Training:   0%|          | 0/194 [00:00<?, ?it/s]"
            ]
          },
          "metadata": {},
          "output_type": "display_data"
        },
        {
          "name": "stdout",
          "output_type": "stream",
          "text": [
            "Train MSE = 1.7182 | Valid MSE = 2.5323\n",
            "Train Time: 1m 17s\n",
            "\n",
            "\n",
            "[Epoch  48 / 100]\n"
          ]
        },
        {
          "data": {
            "application/vnd.jupyter.widget-view+json": {
              "model_id": "f5c431e253694fd0a38b021ff009beb4",
              "version_major": 2,
              "version_minor": 0
            },
            "text/plain": [
              "Training:   0%|          | 0/194 [00:00<?, ?it/s]"
            ]
          },
          "metadata": {},
          "output_type": "display_data"
        },
        {
          "name": "stdout",
          "output_type": "stream",
          "text": [
            "Train MSE = 1.7094 | Valid MSE = 2.5240\n",
            "Train Time: 1m 17s\n",
            "\n",
            "\n",
            "[Epoch  49 / 100]\n"
          ]
        },
        {
          "data": {
            "application/vnd.jupyter.widget-view+json": {
              "model_id": "125e00478e944b6eaf05b25fe2cab90c",
              "version_major": 2,
              "version_minor": 0
            },
            "text/plain": [
              "Training:   0%|          | 0/194 [00:00<?, ?it/s]"
            ]
          },
          "metadata": {},
          "output_type": "display_data"
        },
        {
          "name": "stdout",
          "output_type": "stream",
          "text": [
            "Train MSE = 1.7316 | Valid MSE = 2.5088\n",
            "Train Time: 1m 17s\n",
            "\n",
            "=> Best Model Updated : Epoch = 49, Valid MSE = 2.5088\n",
            "\n",
            "[Epoch  50 / 100]\n"
          ]
        },
        {
          "data": {
            "application/vnd.jupyter.widget-view+json": {
              "model_id": "34ad9a40eafb477797edec065ef49298",
              "version_major": 2,
              "version_minor": 0
            },
            "text/plain": [
              "Training:   0%|          | 0/194 [00:00<?, ?it/s]"
            ]
          },
          "metadata": {},
          "output_type": "display_data"
        },
        {
          "name": "stdout",
          "output_type": "stream",
          "text": [
            "Train MSE = 1.6511 | Valid MSE = 2.6396\n",
            "Train Time: 1m 17s\n",
            "\n",
            "\n",
            "[Epoch  51 / 100]\n"
          ]
        },
        {
          "data": {
            "application/vnd.jupyter.widget-view+json": {
              "model_id": "8e49008717c44a91b3ec2f8122d3f737",
              "version_major": 2,
              "version_minor": 0
            },
            "text/plain": [
              "Training:   0%|          | 0/194 [00:00<?, ?it/s]"
            ]
          },
          "metadata": {},
          "output_type": "display_data"
        },
        {
          "name": "stdout",
          "output_type": "stream",
          "text": [
            "Train MSE = 1.6646 | Valid MSE = 2.5010\n",
            "Train Time: 1m 16s\n",
            "\n",
            "=> Best Model Updated : Epoch = 51, Valid MSE = 2.5010\n",
            "\n",
            "[Epoch  52 / 100]\n"
          ]
        },
        {
          "data": {
            "application/vnd.jupyter.widget-view+json": {
              "model_id": "c5cfe1a450c8448f9671a303f853a1f3",
              "version_major": 2,
              "version_minor": 0
            },
            "text/plain": [
              "Training:   0%|          | 0/194 [00:00<?, ?it/s]"
            ]
          },
          "metadata": {},
          "output_type": "display_data"
        },
        {
          "name": "stdout",
          "output_type": "stream",
          "text": [
            "Train MSE = 1.6568 | Valid MSE = 2.7125\n",
            "Train Time: 1m 16s\n",
            "\n",
            "\n",
            "[Epoch  53 / 100]\n"
          ]
        },
        {
          "data": {
            "application/vnd.jupyter.widget-view+json": {
              "model_id": "82041913dd74432684ced0022f955340",
              "version_major": 2,
              "version_minor": 0
            },
            "text/plain": [
              "Training:   0%|          | 0/194 [00:00<?, ?it/s]"
            ]
          },
          "metadata": {},
          "output_type": "display_data"
        },
        {
          "name": "stdout",
          "output_type": "stream",
          "text": [
            "Train MSE = 1.6334 | Valid MSE = 2.5045\n",
            "Train Time: 1m 17s\n",
            "\n",
            "\n",
            "[Epoch  54 / 100]\n"
          ]
        },
        {
          "data": {
            "application/vnd.jupyter.widget-view+json": {
              "model_id": "aafbeb9e57e74f51ae910a6ccb8a9b09",
              "version_major": 2,
              "version_minor": 0
            },
            "text/plain": [
              "Training:   0%|          | 0/194 [00:00<?, ?it/s]"
            ]
          },
          "metadata": {},
          "output_type": "display_data"
        },
        {
          "name": "stdout",
          "output_type": "stream",
          "text": [
            "Train MSE = 1.6351 | Valid MSE = 2.5566\n",
            "Train Time: 1m 16s\n",
            "\n",
            "\n",
            "[Epoch  55 / 100]\n"
          ]
        },
        {
          "data": {
            "application/vnd.jupyter.widget-view+json": {
              "model_id": "543684c0d6594f7e9085fc9c55a71119",
              "version_major": 2,
              "version_minor": 0
            },
            "text/plain": [
              "Training:   0%|          | 0/194 [00:00<?, ?it/s]"
            ]
          },
          "metadata": {},
          "output_type": "display_data"
        },
        {
          "name": "stdout",
          "output_type": "stream",
          "text": [
            "Train MSE = 1.6291 | Valid MSE = 2.4873\n",
            "Train Time: 1m 17s\n",
            "\n",
            "=> Best Model Updated : Epoch = 55, Valid MSE = 2.4873\n",
            "\n",
            "[Epoch  56 / 100]\n"
          ]
        },
        {
          "data": {
            "application/vnd.jupyter.widget-view+json": {
              "model_id": "8b2ed0550a3f4dffb9791b64b8eb9c34",
              "version_major": 2,
              "version_minor": 0
            },
            "text/plain": [
              "Training:   0%|          | 0/194 [00:00<?, ?it/s]"
            ]
          },
          "metadata": {},
          "output_type": "display_data"
        },
        {
          "name": "stdout",
          "output_type": "stream",
          "text": [
            "Train MSE = 1.6061 | Valid MSE = 2.5290\n",
            "Train Time: 1m 16s\n",
            "\n",
            "\n",
            "[Epoch  57 / 100]\n"
          ]
        },
        {
          "data": {
            "application/vnd.jupyter.widget-view+json": {
              "model_id": "510bd79c529f492f8ca2f2b3485991b5",
              "version_major": 2,
              "version_minor": 0
            },
            "text/plain": [
              "Training:   0%|          | 0/194 [00:00<?, ?it/s]"
            ]
          },
          "metadata": {},
          "output_type": "display_data"
        },
        {
          "name": "stdout",
          "output_type": "stream",
          "text": [
            "Train MSE = 1.6154 | Valid MSE = 2.5403\n",
            "Train Time: 1m 17s\n",
            "\n",
            "\n",
            "[Epoch  58 / 100]\n"
          ]
        },
        {
          "data": {
            "application/vnd.jupyter.widget-view+json": {
              "model_id": "7b1a93621d714bc2a52b75b528083daf",
              "version_major": 2,
              "version_minor": 0
            },
            "text/plain": [
              "Training:   0%|          | 0/194 [00:00<?, ?it/s]"
            ]
          },
          "metadata": {},
          "output_type": "display_data"
        },
        {
          "name": "stdout",
          "output_type": "stream",
          "text": [
            "Train MSE = 1.5981 | Valid MSE = 2.6597\n",
            "Train Time: 1m 16s\n",
            "\n",
            "\n",
            "[Epoch  59 / 100]\n"
          ]
        },
        {
          "data": {
            "application/vnd.jupyter.widget-view+json": {
              "model_id": "811d7f84d07647eabfb63962ad0ec6ab",
              "version_major": 2,
              "version_minor": 0
            },
            "text/plain": [
              "Training:   0%|          | 0/194 [00:00<?, ?it/s]"
            ]
          },
          "metadata": {},
          "output_type": "display_data"
        },
        {
          "name": "stdout",
          "output_type": "stream",
          "text": [
            "Train MSE = 1.6201 | Valid MSE = 2.5274\n",
            "Train Time: 1m 15s\n",
            "\n",
            "\n",
            "[Epoch  60 / 100]\n"
          ]
        },
        {
          "data": {
            "application/vnd.jupyter.widget-view+json": {
              "model_id": "db08376f51d54381bff5d2ba98632b2a",
              "version_major": 2,
              "version_minor": 0
            },
            "text/plain": [
              "Training:   0%|          | 0/194 [00:00<?, ?it/s]"
            ]
          },
          "metadata": {},
          "output_type": "display_data"
        },
        {
          "name": "stdout",
          "output_type": "stream",
          "text": [
            "Train MSE = 1.5618 | Valid MSE = 2.4925\n",
            "Train Time: 1m 16s\n",
            "\n",
            "\n",
            "[Epoch  61 / 100]\n"
          ]
        },
        {
          "data": {
            "application/vnd.jupyter.widget-view+json": {
              "model_id": "8f2a7bbfdb1d434b87f0c51c97ef2b25",
              "version_major": 2,
              "version_minor": 0
            },
            "text/plain": [
              "Training:   0%|          | 0/194 [00:00<?, ?it/s]"
            ]
          },
          "metadata": {},
          "output_type": "display_data"
        },
        {
          "name": "stdout",
          "output_type": "stream",
          "text": [
            "Train MSE = 1.5518 | Valid MSE = 2.5092\n",
            "Train Time: 1m 16s\n",
            "\n",
            "\n",
            "[Epoch  62 / 100]\n"
          ]
        },
        {
          "data": {
            "application/vnd.jupyter.widget-view+json": {
              "model_id": "348e0eca7d1f4cea8717563c8545505d",
              "version_major": 2,
              "version_minor": 0
            },
            "text/plain": [
              "Training:   0%|          | 0/194 [00:00<?, ?it/s]"
            ]
          },
          "metadata": {},
          "output_type": "display_data"
        },
        {
          "name": "stdout",
          "output_type": "stream",
          "text": [
            "Train MSE = 1.5416 | Valid MSE = 2.4969\n",
            "Train Time: 1m 17s\n",
            "\n",
            "\n",
            "[Epoch  63 / 100]\n"
          ]
        },
        {
          "data": {
            "application/vnd.jupyter.widget-view+json": {
              "model_id": "8829ba07cfba4d66ae68d24331d8c94f",
              "version_major": 2,
              "version_minor": 0
            },
            "text/plain": [
              "Training:   0%|          | 0/194 [00:00<?, ?it/s]"
            ]
          },
          "metadata": {},
          "output_type": "display_data"
        },
        {
          "name": "stdout",
          "output_type": "stream",
          "text": [
            "Train MSE = 1.5379 | Valid MSE = 2.5812\n",
            "Train Time: 1m 17s\n",
            "\n",
            "\n",
            "[Epoch  64 / 100]\n"
          ]
        },
        {
          "data": {
            "application/vnd.jupyter.widget-view+json": {
              "model_id": "f37044a890354e9689cc599cc9585a44",
              "version_major": 2,
              "version_minor": 0
            },
            "text/plain": [
              "Training:   0%|          | 0/194 [00:00<?, ?it/s]"
            ]
          },
          "metadata": {},
          "output_type": "display_data"
        },
        {
          "name": "stdout",
          "output_type": "stream",
          "text": [
            "Train MSE = 1.5263 | Valid MSE = 2.5348\n",
            "Train Time: 1m 16s\n",
            "\n",
            "\n",
            "[Epoch  65 / 100]\n"
          ]
        },
        {
          "data": {
            "application/vnd.jupyter.widget-view+json": {
              "model_id": "b499c44ccbb4430097515554c3e0b0d5",
              "version_major": 2,
              "version_minor": 0
            },
            "text/plain": [
              "Training:   0%|          | 0/194 [00:00<?, ?it/s]"
            ]
          },
          "metadata": {},
          "output_type": "display_data"
        },
        {
          "name": "stdout",
          "output_type": "stream",
          "text": [
            "Train MSE = 1.5125 | Valid MSE = 2.5029\n",
            "Train Time: 1m 16s\n",
            "\n",
            "\n",
            "[Epoch  66 / 100]\n"
          ]
        },
        {
          "data": {
            "application/vnd.jupyter.widget-view+json": {
              "model_id": "8f2e4ce5dcaa4ee2b4236f086d475183",
              "version_major": 2,
              "version_minor": 0
            },
            "text/plain": [
              "Training:   0%|          | 0/194 [00:00<?, ?it/s]"
            ]
          },
          "metadata": {},
          "output_type": "display_data"
        },
        {
          "name": "stdout",
          "output_type": "stream",
          "text": [
            "Train MSE = 1.5028 | Valid MSE = 2.6089\n",
            "Train Time: 1m 17s\n",
            "\n",
            "\n",
            "[Epoch  67 / 100]\n"
          ]
        },
        {
          "data": {
            "application/vnd.jupyter.widget-view+json": {
              "model_id": "a0ee90b8ac56416bba41605ffcfa589c",
              "version_major": 2,
              "version_minor": 0
            },
            "text/plain": [
              "Training:   0%|          | 0/194 [00:00<?, ?it/s]"
            ]
          },
          "metadata": {},
          "output_type": "display_data"
        },
        {
          "name": "stdout",
          "output_type": "stream",
          "text": [
            "Train MSE = 1.5030 | Valid MSE = 2.4898\n",
            "Train Time: 1m 16s\n",
            "\n",
            "\n",
            "[Epoch  68 / 100]\n"
          ]
        },
        {
          "data": {
            "application/vnd.jupyter.widget-view+json": {
              "model_id": "bfebe25f0f2c40348b243d8bf0e40d4e",
              "version_major": 2,
              "version_minor": 0
            },
            "text/plain": [
              "Training:   0%|          | 0/194 [00:00<?, ?it/s]"
            ]
          },
          "metadata": {},
          "output_type": "display_data"
        },
        {
          "name": "stdout",
          "output_type": "stream",
          "text": [
            "Train MSE = 1.4826 | Valid MSE = 2.5086\n",
            "Train Time: 1m 17s\n",
            "\n",
            "\n",
            "[Epoch  69 / 100]\n"
          ]
        },
        {
          "data": {
            "application/vnd.jupyter.widget-view+json": {
              "model_id": "5c4c03fdd1d543ea9348432eb0fe2929",
              "version_major": 2,
              "version_minor": 0
            },
            "text/plain": [
              "Training:   0%|          | 0/194 [00:00<?, ?it/s]"
            ]
          },
          "metadata": {},
          "output_type": "display_data"
        },
        {
          "name": "stdout",
          "output_type": "stream",
          "text": [
            "Train MSE = 1.4788 | Valid MSE = 2.4987\n",
            "Train Time: 1m 16s\n",
            "\n",
            "\n",
            "[Epoch  70 / 100]\n"
          ]
        },
        {
          "data": {
            "application/vnd.jupyter.widget-view+json": {
              "model_id": "52d0885147e642439277b9056c2416d2",
              "version_major": 2,
              "version_minor": 0
            },
            "text/plain": [
              "Training:   0%|          | 0/194 [00:00<?, ?it/s]"
            ]
          },
          "metadata": {},
          "output_type": "display_data"
        },
        {
          "name": "stdout",
          "output_type": "stream",
          "text": [
            "Train MSE = 1.4716 | Valid MSE = 2.6905\n",
            "Train Time: 1m 16s\n",
            "\n",
            "\n",
            "[Epoch  71 / 100]\n"
          ]
        },
        {
          "data": {
            "application/vnd.jupyter.widget-view+json": {
              "model_id": "6e332d43333840199d6b8ff79b333fb7",
              "version_major": 2,
              "version_minor": 0
            },
            "text/plain": [
              "Training:   0%|          | 0/194 [00:00<?, ?it/s]"
            ]
          },
          "metadata": {},
          "output_type": "display_data"
        },
        {
          "name": "stdout",
          "output_type": "stream",
          "text": [
            "Train MSE = 1.4586 | Valid MSE = 2.4774\n",
            "Train Time: 1m 16s\n",
            "\n",
            "=> Best Model Updated : Epoch = 71, Valid MSE = 2.4774\n",
            "\n",
            "[Epoch  72 / 100]\n"
          ]
        },
        {
          "data": {
            "application/vnd.jupyter.widget-view+json": {
              "model_id": "88a7d538c47947718ef35671ad16fe26",
              "version_major": 2,
              "version_minor": 0
            },
            "text/plain": [
              "Training:   0%|          | 0/194 [00:00<?, ?it/s]"
            ]
          },
          "metadata": {},
          "output_type": "display_data"
        },
        {
          "name": "stdout",
          "output_type": "stream",
          "text": [
            "Train MSE = 1.4552 | Valid MSE = 2.5118\n",
            "Train Time: 1m 17s\n",
            "\n",
            "\n",
            "[Epoch  73 / 100]\n"
          ]
        },
        {
          "data": {
            "application/vnd.jupyter.widget-view+json": {
              "model_id": "74295a0231514d0998ffba910cca925f",
              "version_major": 2,
              "version_minor": 0
            },
            "text/plain": [
              "Training:   0%|          | 0/194 [00:00<?, ?it/s]"
            ]
          },
          "metadata": {},
          "output_type": "display_data"
        },
        {
          "name": "stdout",
          "output_type": "stream",
          "text": [
            "Train MSE = 1.4548 | Valid MSE = 2.4761\n",
            "Train Time: 1m 17s\n",
            "\n",
            "=> Best Model Updated : Epoch = 73, Valid MSE = 2.4761\n",
            "\n",
            "[Epoch  74 / 100]\n"
          ]
        },
        {
          "data": {
            "application/vnd.jupyter.widget-view+json": {
              "model_id": "bb80efbe6de64e4ba0325fb08fc56ca4",
              "version_major": 2,
              "version_minor": 0
            },
            "text/plain": [
              "Training:   0%|          | 0/194 [00:00<?, ?it/s]"
            ]
          },
          "metadata": {},
          "output_type": "display_data"
        },
        {
          "name": "stdout",
          "output_type": "stream",
          "text": [
            "Train MSE = 1.4275 | Valid MSE = 2.4924\n",
            "Train Time: 1m 16s\n",
            "\n",
            "\n",
            "[Epoch  75 / 100]\n"
          ]
        },
        {
          "data": {
            "application/vnd.jupyter.widget-view+json": {
              "model_id": "0043c9374c3444d68c802f68ce413d0d",
              "version_major": 2,
              "version_minor": 0
            },
            "text/plain": [
              "Training:   0%|          | 0/194 [00:00<?, ?it/s]"
            ]
          },
          "metadata": {},
          "output_type": "display_data"
        },
        {
          "name": "stdout",
          "output_type": "stream",
          "text": [
            "Train MSE = 1.4168 | Valid MSE = 2.5262\n",
            "Train Time: 1m 16s\n",
            "\n",
            "\n",
            "[Epoch  76 / 100]\n"
          ]
        },
        {
          "data": {
            "application/vnd.jupyter.widget-view+json": {
              "model_id": "0febd4a926b44f8c9a011ba9a9ba96e2",
              "version_major": 2,
              "version_minor": 0
            },
            "text/plain": [
              "Training:   0%|          | 0/194 [00:00<?, ?it/s]"
            ]
          },
          "metadata": {},
          "output_type": "display_data"
        },
        {
          "name": "stdout",
          "output_type": "stream",
          "text": [
            "Train MSE = 1.4053 | Valid MSE = 2.5259\n",
            "Train Time: 1m 16s\n",
            "\n",
            "\n",
            "[Epoch  77 / 100]\n"
          ]
        },
        {
          "data": {
            "application/vnd.jupyter.widget-view+json": {
              "model_id": "59f7e536ec70462581975acea16ed6d3",
              "version_major": 2,
              "version_minor": 0
            },
            "text/plain": [
              "Training:   0%|          | 0/194 [00:00<?, ?it/s]"
            ]
          },
          "metadata": {},
          "output_type": "display_data"
        },
        {
          "name": "stdout",
          "output_type": "stream",
          "text": [
            "Train MSE = 1.4118 | Valid MSE = 2.5625\n",
            "Train Time: 1m 17s\n",
            "\n",
            "\n",
            "[Epoch  78 / 100]\n"
          ]
        },
        {
          "data": {
            "application/vnd.jupyter.widget-view+json": {
              "model_id": "c98bfb67fbc34fadbb826d6196637bc1",
              "version_major": 2,
              "version_minor": 0
            },
            "text/plain": [
              "Training:   0%|          | 0/194 [00:00<?, ?it/s]"
            ]
          },
          "metadata": {},
          "output_type": "display_data"
        },
        {
          "name": "stdout",
          "output_type": "stream",
          "text": [
            "Train MSE = 1.4017 | Valid MSE = 2.4762\n",
            "Train Time: 1m 17s\n",
            "\n",
            "\n",
            "[Epoch  79 / 100]\n"
          ]
        },
        {
          "data": {
            "application/vnd.jupyter.widget-view+json": {
              "model_id": "f7ee3cbf0f63429187dfa600621506d7",
              "version_major": 2,
              "version_minor": 0
            },
            "text/plain": [
              "Training:   0%|          | 0/194 [00:00<?, ?it/s]"
            ]
          },
          "metadata": {},
          "output_type": "display_data"
        },
        {
          "name": "stdout",
          "output_type": "stream",
          "text": [
            "Train MSE = 1.3763 | Valid MSE = 2.4739\n",
            "Train Time: 1m 17s\n",
            "\n",
            "=> Best Model Updated : Epoch = 79, Valid MSE = 2.4739\n",
            "\n",
            "[Epoch  80 / 100]\n"
          ]
        },
        {
          "data": {
            "application/vnd.jupyter.widget-view+json": {
              "model_id": "ef7b4f9c5f754fbe82a2e970f37cbef9",
              "version_major": 2,
              "version_minor": 0
            },
            "text/plain": [
              "Training:   0%|          | 0/194 [00:00<?, ?it/s]"
            ]
          },
          "metadata": {},
          "output_type": "display_data"
        },
        {
          "name": "stdout",
          "output_type": "stream",
          "text": [
            "Train MSE = 1.3770 | Valid MSE = 2.4628\n",
            "Train Time: 1m 17s\n",
            "\n",
            "=> Best Model Updated : Epoch = 80, Valid MSE = 2.4628\n",
            "\n",
            "[Epoch  81 / 100]\n"
          ]
        },
        {
          "data": {
            "application/vnd.jupyter.widget-view+json": {
              "model_id": "22b0bf62113b4dccbbb8981ddeb80e1b",
              "version_major": 2,
              "version_minor": 0
            },
            "text/plain": [
              "Training:   0%|          | 0/194 [00:00<?, ?it/s]"
            ]
          },
          "metadata": {},
          "output_type": "display_data"
        },
        {
          "name": "stdout",
          "output_type": "stream",
          "text": [
            "Train MSE = 1.3589 | Valid MSE = 2.4853\n",
            "Train Time: 1m 17s\n",
            "\n",
            "\n",
            "[Epoch  82 / 100]\n"
          ]
        },
        {
          "data": {
            "application/vnd.jupyter.widget-view+json": {
              "model_id": "bd4d6963b9e84ca49cf28c24db10d970",
              "version_major": 2,
              "version_minor": 0
            },
            "text/plain": [
              "Training:   0%|          | 0/194 [00:00<?, ?it/s]"
            ]
          },
          "metadata": {},
          "output_type": "display_data"
        },
        {
          "name": "stdout",
          "output_type": "stream",
          "text": [
            "Train MSE = 1.3676 | Valid MSE = 2.4686\n",
            "Train Time: 1m 16s\n",
            "\n",
            "\n",
            "[Epoch  83 / 100]\n"
          ]
        },
        {
          "data": {
            "application/vnd.jupyter.widget-view+json": {
              "model_id": "5bfe5d577981499a9ee9e4b916e4c2e3",
              "version_major": 2,
              "version_minor": 0
            },
            "text/plain": [
              "Training:   0%|          | 0/194 [00:00<?, ?it/s]"
            ]
          },
          "metadata": {},
          "output_type": "display_data"
        },
        {
          "name": "stdout",
          "output_type": "stream",
          "text": [
            "Train MSE = 1.3671 | Valid MSE = 2.4776\n",
            "Train Time: 1m 17s\n",
            "\n",
            "\n",
            "[Epoch  84 / 100]\n"
          ]
        },
        {
          "data": {
            "application/vnd.jupyter.widget-view+json": {
              "model_id": "2e3ff71d3f6e46d6aa1394eed8b9776f",
              "version_major": 2,
              "version_minor": 0
            },
            "text/plain": [
              "Training:   0%|          | 0/194 [00:00<?, ?it/s]"
            ]
          },
          "metadata": {},
          "output_type": "display_data"
        },
        {
          "name": "stdout",
          "output_type": "stream",
          "text": [
            "Train MSE = 1.3325 | Valid MSE = 2.4771\n",
            "Train Time: 1m 16s\n",
            "\n",
            "\n",
            "[Epoch  85 / 100]\n"
          ]
        },
        {
          "data": {
            "application/vnd.jupyter.widget-view+json": {
              "model_id": "9b6cc267d44d4081951b28c3658f8107",
              "version_major": 2,
              "version_minor": 0
            },
            "text/plain": [
              "Training:   0%|          | 0/194 [00:00<?, ?it/s]"
            ]
          },
          "metadata": {},
          "output_type": "display_data"
        },
        {
          "name": "stdout",
          "output_type": "stream",
          "text": [
            "Train MSE = 1.3710 | Valid MSE = 2.4876\n",
            "Train Time: 1m 17s\n",
            "\n",
            "\n",
            "[Epoch  86 / 100]\n"
          ]
        },
        {
          "data": {
            "application/vnd.jupyter.widget-view+json": {
              "model_id": "bf0e22f7522b482aa68efc1fe2f5ad36",
              "version_major": 2,
              "version_minor": 0
            },
            "text/plain": [
              "Training:   0%|          | 0/194 [00:00<?, ?it/s]"
            ]
          },
          "metadata": {},
          "output_type": "display_data"
        },
        {
          "name": "stdout",
          "output_type": "stream",
          "text": [
            "Train MSE = 1.3157 | Valid MSE = 2.5097\n",
            "Train Time: 1m 16s\n",
            "\n",
            "\n",
            "[Epoch  87 / 100]\n"
          ]
        },
        {
          "data": {
            "application/vnd.jupyter.widget-view+json": {
              "model_id": "f56ced56f17d4a5da80e806814893884",
              "version_major": 2,
              "version_minor": 0
            },
            "text/plain": [
              "Training:   0%|          | 0/194 [00:00<?, ?it/s]"
            ]
          },
          "metadata": {},
          "output_type": "display_data"
        },
        {
          "name": "stdout",
          "output_type": "stream",
          "text": [
            "Train MSE = 1.3264 | Valid MSE = 2.4568\n",
            "Train Time: 1m 16s\n",
            "\n",
            "=> Best Model Updated : Epoch = 87, Valid MSE = 2.4568\n",
            "\n",
            "[Epoch  88 / 100]\n"
          ]
        },
        {
          "data": {
            "application/vnd.jupyter.widget-view+json": {
              "model_id": "dd934f8595d34112b8b12ba30783fcea",
              "version_major": 2,
              "version_minor": 0
            },
            "text/plain": [
              "Training:   0%|          | 0/194 [00:00<?, ?it/s]"
            ]
          },
          "metadata": {},
          "output_type": "display_data"
        },
        {
          "name": "stdout",
          "output_type": "stream",
          "text": [
            "Train MSE = 1.3058 | Valid MSE = 2.4938\n",
            "Train Time: 1m 15s\n",
            "\n",
            "\n",
            "[Epoch  89 / 100]\n"
          ]
        },
        {
          "data": {
            "application/vnd.jupyter.widget-view+json": {
              "model_id": "3096faed44854b8e8c7dd0d7b492a622",
              "version_major": 2,
              "version_minor": 0
            },
            "text/plain": [
              "Training:   0%|          | 0/194 [00:00<?, ?it/s]"
            ]
          },
          "metadata": {},
          "output_type": "display_data"
        },
        {
          "name": "stdout",
          "output_type": "stream",
          "text": [
            "Train MSE = 1.3160 | Valid MSE = 2.4538\n",
            "Train Time: 1m 16s\n",
            "\n",
            "=> Best Model Updated : Epoch = 89, Valid MSE = 2.4538\n",
            "\n",
            "[Epoch  90 / 100]\n"
          ]
        },
        {
          "data": {
            "application/vnd.jupyter.widget-view+json": {
              "model_id": "7addd247c9e6415989f020c783ab94c9",
              "version_major": 2,
              "version_minor": 0
            },
            "text/plain": [
              "Training:   0%|          | 0/194 [00:00<?, ?it/s]"
            ]
          },
          "metadata": {},
          "output_type": "display_data"
        },
        {
          "name": "stdout",
          "output_type": "stream",
          "text": [
            "Train MSE = 1.3015 | Valid MSE = 2.4488\n",
            "Train Time: 1m 17s\n",
            "\n",
            "=> Best Model Updated : Epoch = 90, Valid MSE = 2.4488\n",
            "\n",
            "[Epoch  91 / 100]\n"
          ]
        },
        {
          "data": {
            "application/vnd.jupyter.widget-view+json": {
              "model_id": "0982b3c337f24f9d9c55d7d04cf57541",
              "version_major": 2,
              "version_minor": 0
            },
            "text/plain": [
              "Training:   0%|          | 0/194 [00:00<?, ?it/s]"
            ]
          },
          "metadata": {},
          "output_type": "display_data"
        },
        {
          "name": "stdout",
          "output_type": "stream",
          "text": [
            "Train MSE = 1.2809 | Valid MSE = 2.4985\n",
            "Train Time: 1m 16s\n",
            "\n",
            "\n",
            "[Epoch  92 / 100]\n"
          ]
        },
        {
          "data": {
            "application/vnd.jupyter.widget-view+json": {
              "model_id": "fb4a7e6dd182444982fb7911cc41f122",
              "version_major": 2,
              "version_minor": 0
            },
            "text/plain": [
              "Training:   0%|          | 0/194 [00:00<?, ?it/s]"
            ]
          },
          "metadata": {},
          "output_type": "display_data"
        },
        {
          "name": "stdout",
          "output_type": "stream",
          "text": [
            "Train MSE = 1.2717 | Valid MSE = 2.4506\n",
            "Train Time: 1m 16s\n",
            "\n",
            "\n",
            "[Epoch  93 / 100]\n"
          ]
        },
        {
          "data": {
            "application/vnd.jupyter.widget-view+json": {
              "model_id": "4a5d799da71c4bb7bd80e9e46acb6cf4",
              "version_major": 2,
              "version_minor": 0
            },
            "text/plain": [
              "Training:   0%|          | 0/194 [00:00<?, ?it/s]"
            ]
          },
          "metadata": {},
          "output_type": "display_data"
        },
        {
          "name": "stdout",
          "output_type": "stream",
          "text": [
            "Train MSE = 1.2734 | Valid MSE = 2.4635\n",
            "Train Time: 1m 17s\n",
            "\n",
            "\n",
            "[Epoch  94 / 100]\n"
          ]
        },
        {
          "data": {
            "application/vnd.jupyter.widget-view+json": {
              "model_id": "cc872e44349f40158b400c722477d218",
              "version_major": 2,
              "version_minor": 0
            },
            "text/plain": [
              "Training:   0%|          | 0/194 [00:00<?, ?it/s]"
            ]
          },
          "metadata": {},
          "output_type": "display_data"
        },
        {
          "name": "stdout",
          "output_type": "stream",
          "text": [
            "Train MSE = 1.2584 | Valid MSE = 2.4649\n",
            "Train Time: 1m 16s\n",
            "\n",
            "\n",
            "[Epoch  95 / 100]\n"
          ]
        },
        {
          "data": {
            "application/vnd.jupyter.widget-view+json": {
              "model_id": "d20db3e2dcc84e4bb49777339f91c594",
              "version_major": 2,
              "version_minor": 0
            },
            "text/plain": [
              "Training:   0%|          | 0/194 [00:00<?, ?it/s]"
            ]
          },
          "metadata": {},
          "output_type": "display_data"
        },
        {
          "name": "stdout",
          "output_type": "stream",
          "text": [
            "Train MSE = 1.2616 | Valid MSE = 2.4641\n",
            "Train Time: 1m 17s\n",
            "\n",
            "\n",
            "[Epoch  96 / 100]\n"
          ]
        },
        {
          "data": {
            "application/vnd.jupyter.widget-view+json": {
              "model_id": "3366dc8204ae4ec68f59e99755e8450c",
              "version_major": 2,
              "version_minor": 0
            },
            "text/plain": [
              "Training:   0%|          | 0/194 [00:00<?, ?it/s]"
            ]
          },
          "metadata": {},
          "output_type": "display_data"
        },
        {
          "name": "stdout",
          "output_type": "stream",
          "text": [
            "Train MSE = 1.2381 | Valid MSE = 2.4558\n",
            "Train Time: 1m 17s\n",
            "\n",
            "\n",
            "[Epoch  97 / 100]\n"
          ]
        },
        {
          "data": {
            "application/vnd.jupyter.widget-view+json": {
              "model_id": "0c538918a0ac4b2497a0c0337869e810",
              "version_major": 2,
              "version_minor": 0
            },
            "text/plain": [
              "Training:   0%|          | 0/194 [00:00<?, ?it/s]"
            ]
          },
          "metadata": {},
          "output_type": "display_data"
        },
        {
          "name": "stdout",
          "output_type": "stream",
          "text": [
            "Train MSE = 1.2634 | Valid MSE = 2.7359\n",
            "Train Time: 1m 17s\n",
            "\n",
            "\n",
            "[Epoch  98 / 100]\n"
          ]
        },
        {
          "data": {
            "application/vnd.jupyter.widget-view+json": {
              "model_id": "d543b7d17a4447e4a4717958a95e17bd",
              "version_major": 2,
              "version_minor": 0
            },
            "text/plain": [
              "Training:   0%|          | 0/194 [00:00<?, ?it/s]"
            ]
          },
          "metadata": {},
          "output_type": "display_data"
        },
        {
          "name": "stdout",
          "output_type": "stream",
          "text": [
            "Train MSE = 1.2646 | Valid MSE = 2.4572\n",
            "Train Time: 1m 16s\n",
            "\n",
            "\n",
            "[Epoch  99 / 100]\n"
          ]
        },
        {
          "data": {
            "application/vnd.jupyter.widget-view+json": {
              "model_id": "1a48d47242b94e90a12636146866c2b2",
              "version_major": 2,
              "version_minor": 0
            },
            "text/plain": [
              "Training:   0%|          | 0/194 [00:00<?, ?it/s]"
            ]
          },
          "metadata": {},
          "output_type": "display_data"
        },
        {
          "name": "stdout",
          "output_type": "stream",
          "text": [
            "Train MSE = 1.2403 | Valid MSE = 2.4497\n",
            "Train Time: 1m 17s\n",
            "\n",
            "\n",
            "[Epoch 100 / 100]\n"
          ]
        },
        {
          "data": {
            "application/vnd.jupyter.widget-view+json": {
              "model_id": "42d47050ee8645a5a970a36bf7201271",
              "version_major": 2,
              "version_minor": 0
            },
            "text/plain": [
              "Training:   0%|          | 0/194 [00:00<?, ?it/s]"
            ]
          },
          "metadata": {},
          "output_type": "display_data"
        },
        {
          "name": "stdout",
          "output_type": "stream",
          "text": [
            "Train MSE = 1.2291 | Valid MSE = 2.4483\n",
            "Train Time: 1m 17s\n",
            "\n",
            "=> Best Model Updated : Epoch = 100, Valid MSE = 2.4483\n",
            "\n",
            "\n",
            "Training Finished...!!\n",
            "\n",
            "Best Valid MSE : 2.45 at epoch 100\n",
            "Total Time: 140m 3s\n",
            "Model was trained on cuda!\n"
          ]
        }
      ],
      "source": [
        "model = Model(use_image=True)\n",
        "model.to(model.device)\n",
        "model.train_(epochs, lr, train_loader, valid_loader, save_every)"
      ]
    },
    {
      "cell_type": "code",
      "execution_count": 201,
      "metadata": {
        "id": "9--JTrRRKohy"
      },
      "outputs": [
        {
          "data": {
            "image/png": "[encoded data removed]",
            "text/plain": [
              "<Figure size 640x480 with 1 Axes>"
            ]
          },
          "metadata": {},
          "output_type": "display_data"
        },
        {
          "data": {
            "image/png": "[encoded data removed]",
            "text/plain": [
              "<Figure size 640x480 with 1 Axes>"
            ]
          },
          "metadata": {},
          "output_type": "display_data"
        }
      ],
      "source": [
        "model.plot()"
      ]
    },
    {
      "cell_type": "code",
      "execution_count": 202,
      "metadata": {},
      "outputs": [
        {
          "name": "stdout",
          "output_type": "stream",
          "text": [
            "Test MSE :  2.339280605316162\n"
          ]
        }
      ],
      "source": [
        "# test\n",
        "model.restore() # load best model during training\n",
        "pred_y, true_y = model.predict(test_loader)\n",
        "true_y = torch.FloatTensor(true_y)\n",
        "pred_y = torch.FloatTensor(pred_y)\n",
        "test_mse = model.criterion(pred_y, true_y)\n",
        "print('Test MSE : ',test_mse.item())"
      ]
    },
    {
      "cell_type": "code",
      "execution_count": 203,
      "metadata": {},
      "outputs": [
        {
          "name": "stdout",
          "output_type": "stream",
          "text": [
            "No Image Test MSE :  23.068880081176758\n"
          ]
        }
      ],
      "source": [
        "# test with no image\n",
        "no_image_test_dataset = YoutubeDataset(test_data, doc2vec, image_option=False)\n",
        "no_image_test_loader = DataLoader(no_image_test_dataset, batch_size = batch_size)\n",
        "\n",
        "model.restore() # load best model during training\n",
        "pred_y, true_y = model.predict(no_image_test_loader)\n",
        "true_y = torch.FloatTensor(true_y)\n",
        "pred_y = torch.FloatTensor(pred_y)\n",
        "test_mse = model.criterion(pred_y, true_y)\n",
        "print('No Image Test MSE : ',test_mse.item())"
      ]
    },
    {
      "cell_type": "code",
      "execution_count": 204,
      "metadata": {},
      "outputs": [],
      "source": [
        "# save best_model as script\n",
        "model.restore()\n",
        "model_script = torch.jit.script(model)\n",
        "model_script.save('./best_model/best_model_script.pt')"
      ]
    }
  ],
  "metadata": {
    "colab": {
      "provenance": []
    },
    "kernelspec": {
      "display_name": "Python 3",
      "name": "python3"
    },
    "language_info": {
      "codemirror_mode": {
        "name": "ipython",
        "version": 3
      },
      "file_extension": ".py",
      "mimetype": "text/x-python",
      "name": "python",
      "nbconvert_exporter": "python",
      "pygments_lexer": "ipython3",
      "version": "3.10.9"
    }
  },
  "nbformat": 4,
  "nbformat_minor": 0
}
