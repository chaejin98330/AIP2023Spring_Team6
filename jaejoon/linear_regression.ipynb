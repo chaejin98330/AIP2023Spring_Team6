{
  "cells": [
    {
      "attachments": {},
      "cell_type": "markdown",
      "metadata": {},
      "source": [
        "Training Baseline Model : Linear Regression from scikit-learn"
      ]
    },
    {
      "cell_type": "code",
      "execution_count": 111,
      "metadata": {},
      "outputs": [],
      "source": [
        "# install dependencies\n",
        "# %pip install pandas scikit-learn timm matplotlib\n",
        "# %pip install ipywidgets\n",
        "# %pip install seaborn"
      ]
    },
    {
      "cell_type": "code",
      "execution_count": 112,
      "metadata": {
        "id": "YWXJdNjmTYF-"
      },
      "outputs": [],
      "source": [
        "import pandas as pd\n",
        "import numpy as np\n",
        "import torch\n",
        "import torch.nn as nn\n",
        "import torch.nn.functional as F\n",
        "import torch.optim as optim\n",
        "from torch.utils.data import DataLoader, Dataset\n",
        "from torchvision import transforms\n",
        "import time\n",
        "import tqdm\n",
        "from tqdm.notebook import tqdm\n",
        "import matplotlib.pyplot as plt\n",
        "import pickle\n",
        "from sklearn.model_selection import train_test_split\n",
        "from PIL import Image\n",
        "import seaborn as sns"
      ]
    },
    {
      "cell_type": "code",
      "execution_count": 113,
      "metadata": {
        "id": "tgP-pcsnhB9M"
      },
      "outputs": [],
      "source": [
        "class YoutubeDataset(Dataset):\n",
        "    def __init__(self, data, doc2vec):\n",
        "        self.ids = list(data['video_id'])\n",
        "        self.titles = doc2vec # pretrained doc2vec features\n",
        "        self.data = data # video_id, metadata, views(y) from csv file\n",
        "        self.device = \"cuda\" if torch.cuda.is_available() else \"cpu\"\n",
        "        self.transform = transforms.ToTensor()\n",
        "\n",
        "    def __len__(self):\n",
        "        return len(self.ids)\n",
        "\n",
        "    def __getitem__(self, idx):\n",
        "        # index order of video_id, meta, y are same\n",
        "        video_id = self.ids[idx]\n",
        "        \n",
        "        image = Image.open('/mnt/medium_15287/{}.jpg'.format(video_id)) # load image\n",
        "        image = self.transform(image)\n",
        "        image = image.to(self.device)\n",
        "        \n",
        "        title = self.titles[video_id] # get video title\n",
        "        title = torch.FloatTensor(np.array(title, dtype=np.float16))\n",
        "        \n",
        "        meta = torch.FloatTensor(self.data[['period_day', 'subscriber_count']].to_numpy()[idx]) # get metadata\n",
        "        \n",
        "        y = np.log10(self.data['views'].to_numpy() + 1) # add 1 for zero views\n",
        "        y = np.expand_dims(y, axis=1) # add batch dimension\n",
        "        y = torch.FloatTensor(y[idx]) # get log10(views+1) by idx value\n",
        "        \n",
        "        return video_id, image, title, meta, y"
      ]
    },
    {
      "cell_type": "code",
      "execution_count": 114,
      "metadata": {
        "id": "uNON_uCbmLkS"
      },
      "outputs": [],
      "source": [
        "class Model(nn.Module):\n",
        "    def __init__(self, use_image=True):\n",
        "        super(Model, self).__init__()\n",
        "        self.device = \"cuda\" if torch.cuda.is_available() else \"cpu\"\n",
        "        self.fc1 = nn.Linear(172812, 1) # using image\n",
        "        self.fc2 = nn.Linear(12, 1) # not using image\n",
        "        self.use_image = use_image\n",
        "    \n",
        "    def forward(self, feature_map, title, meta):\n",
        "        if self.use_image:\n",
        "            feature_map, title, meta = feature_map.to(self.device), title.to(self.device), meta.to(self.device)\n",
        "            feature_map = torch.flatten(feature_map, start_dim=1)\n",
        "            x = torch.cat([feature_map, title, meta], dim=1)\n",
        "            x = self.fc1(x)\n",
        "            return x\n",
        "        else:\n",
        "            title, meta = title.to(self.device), meta.to(self.device)\n",
        "            x = torch.cat([title, meta], dim=1)\n",
        "            x = self.fc2(x)\n",
        "            return x\n",
        "\n",
        "    def train_(self, epochs, lr, train_loader, valid_loader, save_every):\n",
        "        self.criterion = nn.MSELoss()\n",
        "        self.optimizer = optim.Adam(self.parameters(), lr=lr)\n",
        "        \n",
        "        def positive_view_loss(x):\n",
        "            zero_tensor = torch.zeros_like(x)\n",
        "            pv_loss = torch.square(torch.maximum(zero_tensor, -x))\n",
        "            return pv_loss.mean()\n",
        "\n",
        "        self.train_loss_log = []\n",
        "        self.train_mse_log = []\n",
        "        self.valid_mse_log = []\n",
        "\n",
        "        best_mse = 1e100\n",
        "        best_epoch = 1\n",
        "\n",
        "        train_start = time.time()\n",
        "\n",
        "        print(\"Model will be trained on {}\\n\".format(self.device))\n",
        "\n",
        "        for epoch in range(1, epochs + 1):\n",
        "            self.train()\n",
        "            print(\"[Epoch {:3d} / {}]\".format(epoch, epochs))\n",
        "\n",
        "            epoch_start = time.time()\n",
        "            epoch_loss = 0.0\n",
        "            epoch_mse = 0.0\n",
        "            \n",
        "            #training\n",
        "            for batch_idx, batch_data in enumerate(tqdm(train_loader, desc=\"Training\")):\n",
        "                batch_video_id, batch_image, batch_title, batch_meta, batch_target = batch_data\n",
        "                batch_target = batch_target.to(self.device)\n",
        "                \n",
        "                self.optimizer.zero_grad()\n",
        "                output = self.forward(batch_image, batch_title, batch_meta)\n",
        "                mse_loss = self.criterion(output, batch_target)\n",
        "                loss = mse_loss\n",
        "                loss.backward()\n",
        "                self.optimizer.step()\n",
        "\n",
        "                epoch_loss += loss.item()\n",
        "                epoch_mse += mse_loss.item()\n",
        "\n",
        "                # print('Epoch : {}, mini-batch : {}, loss : {}'.format(epoch, batch_idx, loss.item()))\n",
        "\n",
        "            epoch_end = time.time()\n",
        "            m, s = divmod(epoch_end - epoch_start, 60)\n",
        "            \n",
        "            epoch_loss /= len(train_loader)\n",
        "            epoch_mse /= len(train_loader)\n",
        "            self.train_loss_log.append(epoch_loss)\n",
        "            self.train_mse_log.append(epoch_mse)\n",
        "            \n",
        "            #validation\n",
        "            with torch.no_grad():\n",
        "                self.eval()\n",
        "                true_y, pred_y = self.predict(valid_loader)                \n",
        "                true_y = torch.FloatTensor(true_y)\n",
        "                pred_y = torch.FloatTensor(pred_y)\n",
        "                valid_mse = self.criterion(pred_y, true_y)\n",
        "                self.valid_mse_log.append(valid_mse.item())\n",
        "\n",
        "            print(\"Train MSE = {:.4f} | Valid MSE = {:.4f}\".format(epoch_mse, valid_mse))\n",
        "            print(f\"Train Time: {m:.0f}m {s:.0f}s\\n\")\n",
        "\n",
        "            valid_mse = valid_mse.item()\n",
        "            if best_mse > valid_mse:\n",
        "                print(\"=> Best Model Updated : Epoch = {}, Valid MSE = {:.4f}\\n\".format(epoch, valid_mse))\n",
        "                best_mse = valid_mse\n",
        "                best_epoch = epoch\n",
        "                torch.save(self.state_dict(), \"./best_model/best_model.pt\")\n",
        "            else:\n",
        "                print()\n",
        "\n",
        "            # save model for every ? epoch\n",
        "            if (epoch % save_every) == 0:\n",
        "                torch.save(self.state_dict(),\"./model/epoch{}_train-mse{:.4f}_valid-mse{:.4f}.pt\".format(epoch, epoch_mse, valid_mse))\n",
        "\n",
        "        m, s = divmod(time.time() - train_start, 60)\n",
        "        print(\"\\nTraining Finished...!!\")\n",
        "        print(\"\\nBest Valid MSE : %.2f at epoch %d\" % (best_mse, best_epoch))\n",
        "        print(f\"Total Time: {m:.0f}m {s:.0f}s\\nModel was trained on {self.device}!\")\n",
        "\n",
        "        torch.save(self.state_dict(),\"./model/epoch{}_train{:.4f}_valid{:.4f}.pt\".format(epoch, epoch_loss, valid_mse))\n",
        "    \n",
        "    def restore(self):\n",
        "        with open(\"./best_model/best_model.pt\", \"rb\") as f:\n",
        "            state_dict = torch.load(f)\n",
        "        self.load_state_dict(state_dict)\n",
        "\n",
        "    def predict(self, dataloader):\n",
        "        with torch.no_grad():\n",
        "            self.eval()\n",
        "            true_y = []\n",
        "            pred_y = []\n",
        "            for batch_video_id, batch_image, batch_title, batch_meta, batch_target in dataloader:\n",
        "                pred = self.forward(batch_image, batch_title, batch_meta)\n",
        "                true_y.append(batch_target.numpy())\n",
        "                pred_y.append(pred.cpu().numpy())\n",
        "            pred_y = np.concatenate(pred_y, axis=0)\n",
        "            true_y = np.concatenate(true_y, axis=0)\n",
        "        return pred_y, true_y #numpy array\n",
        "\n",
        "    def plot(self, start=0, step=1):\n",
        "        plt.figure(1)\n",
        "        plt.plot(np.array(self.train_mse_log[start::step]), \"b\", label='Train MSE')\n",
        "        plt.plot(np.array(self.valid_mse_log[start::step]), \"r\", label='Valid Mse')\n",
        "        plt.legend()\n",
        "        plt.title('MSE')\n",
        "        plt.savefig(\"./mse-graph.png\")\n",
        "        \n",
        "        plt.figure(2)\n",
        "        plt.plot(np.array(self.train_loss_log[start::step]), \"g\", label='Train Loss')\n",
        "        plt.legend()\n",
        "        plt.title('Train Loss')\n",
        "        plt.savefig(\"./loss-graph.png\")\n",
        "        \n",
        "        plt.show()\n"
      ]
    },
    {
      "cell_type": "code",
      "execution_count": 115,
      "metadata": {
        "colab": {
          "base_uri": "https://localhost:8080/"
        },
        "id": "pvFu9VQSISVM",
        "outputId": "94bee18a-4806-4ab4-a3ed-83b897b34762"
      },
      "outputs": [
        {
          "name": "stdout",
          "output_type": "stream",
          "text": [
            "/mnt\n"
          ]
        }
      ],
      "source": [
        "%cd /mnt"
      ]
    },
    {
      "cell_type": "code",
      "execution_count": 116,
      "metadata": {},
      "outputs": [],
      "source": [
        "train_data = pd.read_csv('./train.csv')\n",
        "test_data = pd.read_csv('./test.csv')"
      ]
    },
    {
      "cell_type": "code",
      "execution_count": 117,
      "metadata": {},
      "outputs": [
        {
          "name": "stdout",
          "output_type": "stream",
          "text": [
            "Train Data Statistics before Normalization\n",
            "mean period :  335.83891836883043\n",
            "std period :  497.77141615927457\n",
            "mean subscriber :  1784439.962419132\n",
            "std subscriber :  3833901.649291374\n"
          ]
        },
        {
          "data": {
            "image/png": "[encoded data removed]",
            "text/plain": [
              "<Figure size 500x500 with 1 Axes>"
            ]
          },
          "metadata": {},
          "output_type": "display_data"
        },
        {
          "data": {
            "image/png": "[encoded data removed]",
            "text/plain": [
              "<Figure size 500x500 with 1 Axes>"
            ]
          },
          "metadata": {},
          "output_type": "display_data"
        }
      ],
      "source": [
        "# before normalization\n",
        "sns.displot(train_data[\"period_day\"])\n",
        "sns.displot(train_data[\"subscriber_count\"])\n",
        "\n",
        "mean_period = train_data['period_day'].mean()\n",
        "std_period = train_data['period_day'].std()\n",
        "mean_subscriber = train_data['subscriber_count'].mean()\n",
        "std_subscriber = train_data['subscriber_count'].std()\n",
        "\n",
        "print('Train Data Statistics before Normalization')\n",
        "print(\"mean period : \", mean_period)\n",
        "print(\"std period : \", std_period)\n",
        "print(\"mean subscriber : \", mean_subscriber)\n",
        "print(\"std subscriber : \", std_subscriber)"
      ]
    },
    {
      "cell_type": "code",
      "execution_count": 118,
      "metadata": {},
      "outputs": [],
      "source": [
        "# train data nomarlization\n",
        "train_data['period_day'] = (train_data['period_day'] - mean_period) / std_period\n",
        "train_data['subscriber_count'] = (train_data['subscriber_count'] - mean_subscriber) / std_subscriber\n",
        "\n",
        "# test data nomarlization\n",
        "test_data['period_day'] = (test_data['period_day'] - mean_period) / std_period\n",
        "test_data['subscriber_count'] = (test_data['subscriber_count'] - mean_subscriber) / std_subscriber"
      ]
    },
    {
      "cell_type": "code",
      "execution_count": 119,
      "metadata": {},
      "outputs": [
        {
          "name": "stdout",
          "output_type": "stream",
          "text": [
            "Train Data Statistics after Normalization\n",
            "mean period :  -5.784748593816327e-17\n",
            "std period :  1.0\n",
            "mean subscriber :  2.685776132843295e-17\n",
            "std subscriber :  1.0\n"
          ]
        },
        {
          "data": {
            "image/png": "[encoded data removed]",
            "text/plain": [
              "<Figure size 500x500 with 1 Axes>"
            ]
          },
          "metadata": {},
          "output_type": "display_data"
        },
        {
          "data": {
            "image/png": "[encoded data removed]",
            "text/plain": [
              "<Figure size 500x500 with 1 Axes>"
            ]
          },
          "metadata": {},
          "output_type": "display_data"
        }
      ],
      "source": [
        "# after normalization\n",
        "sns.displot(train_data[\"period_day\"])\n",
        "sns.displot(train_data[\"subscriber_count\"])\n",
        "\n",
        "mean_period = train_data['period_day'].mean()\n",
        "std_period = train_data['period_day'].std()\n",
        "mean_subscriber = train_data['subscriber_count'].mean()\n",
        "std_subscriber = train_data['subscriber_count'].std()\n",
        "\n",
        "print('Train Data Statistics after Normalization')\n",
        "print(\"mean period : \", mean_period)\n",
        "print(\"std period : \", std_period)\n",
        "print(\"mean subscriber : \", mean_subscriber)\n",
        "print(\"std subscriber : \", std_subscriber)"
      ]
    },
    {
      "cell_type": "code",
      "execution_count": 120,
      "metadata": {},
      "outputs": [
        {
          "name": "stdout",
          "output_type": "stream",
          "text": [
            "Train Dataset Size :  12381\n",
            "Validation Dataset Size :  1376\n",
            "Test Dataset Size :  1529\n"
          ]
        }
      ],
      "source": [
        "# split train -> train : valid = 9 : 1\n",
        "train_data, valid_data = train_test_split(train_data, test_size = 0.1, random_state = 55)\n",
        "print('Train Dataset Size : ',len(train_data))\n",
        "print('Validation Dataset Size : ',len(valid_data))\n",
        "print('Test Dataset Size : ',len(test_data))"
      ]
    },
    {
      "cell_type": "code",
      "execution_count": 121,
      "metadata": {},
      "outputs": [
        {
          "name": "stdout",
          "output_type": "stream",
          "text": [
            "15287\n"
          ]
        }
      ],
      "source": [
        "# open doc2vec data and convert to dict\n",
        "with open('./title_doc2vec_10', 'rb') as f:\n",
        "    doc2vec = pickle.load(f)\n",
        "\n",
        "data_dict=dict()\n",
        "for row in doc2vec:\n",
        "    vid=row[0]\n",
        "    vec=row[1:]\n",
        "    data_dict[vid]=vec\n",
        "\n",
        "doc2vec = data_dict\n",
        "print(len(doc2vec))"
      ]
    },
    {
      "cell_type": "code",
      "execution_count": 122,
      "metadata": {
        "id": "RaVBtO6gmibN"
      },
      "outputs": [],
      "source": [
        "#setting hyper parameters\n",
        "batch_size = 64\n",
        "epochs = 50\n",
        "lr = 1e-5\n",
        "save_every = 5"
      ]
    },
    {
      "cell_type": "code",
      "execution_count": 123,
      "metadata": {
        "id": "_d3vE8CgwOQK"
      },
      "outputs": [],
      "source": [
        "train_dataset = YoutubeDataset(train_data, doc2vec)\n",
        "valid_dataset = YoutubeDataset(valid_data, doc2vec)\n",
        "test_dataset = YoutubeDataset(test_data, doc2vec)\n",
        "\n",
        "train_loader = DataLoader(train_dataset, batch_size = batch_size, shuffle=True)\n",
        "valid_loader = DataLoader(valid_dataset, batch_size = batch_size)\n",
        "test_loader = DataLoader(test_dataset, batch_size = batch_size)"
      ]
    },
    {
      "cell_type": "code",
      "execution_count": 124,
      "metadata": {
        "id": "Vn1sTA9K-DBX"
      },
      "outputs": [
        {
          "name": "stdout",
          "output_type": "stream",
          "text": [
            "Model will be trained on cuda\n",
            "\n",
            "[Epoch   1 / 50]\n"
          ]
        },
        {
          "data": {
            "application/vnd.jupyter.widget-view+json": {
              "model_id": "dc5aac6a46fb4ac98000a98eda40d83a",
              "version_major": 2,
              "version_minor": 0
            },
            "text/plain": [
              "Training:   0%|          | 0/194 [00:00<?, ?it/s]"
            ]
          },
          "metadata": {},
          "output_type": "display_data"
        },
        {
          "name": "stdout",
          "output_type": "stream",
          "text": [
            "Train MSE = 29.7007 | Valid MSE = 30.2650\n",
            "Train Time: 1m 27s\n",
            "\n",
            "=> Best Model Updated : Epoch = 1, Valid MSE = 30.2650\n",
            "\n",
            "[Epoch   2 / 50]\n"
          ]
        },
        {
          "data": {
            "application/vnd.jupyter.widget-view+json": {
              "model_id": "f4c594a6695143ce9dfc808d4b7cde21",
              "version_major": 2,
              "version_minor": 0
            },
            "text/plain": [
              "Training:   0%|          | 0/194 [00:00<?, ?it/s]"
            ]
          },
          "metadata": {},
          "output_type": "display_data"
        },
        {
          "name": "stdout",
          "output_type": "stream",
          "text": [
            "Train MSE = 29.4977 | Valid MSE = 30.0445\n",
            "Train Time: 1m 27s\n",
            "\n",
            "=> Best Model Updated : Epoch = 2, Valid MSE = 30.0445\n",
            "\n",
            "[Epoch   3 / 50]\n"
          ]
        },
        {
          "data": {
            "application/vnd.jupyter.widget-view+json": {
              "model_id": "c646a69dc19c47bc95ae7d644fb0fc90",
              "version_major": 2,
              "version_minor": 0
            },
            "text/plain": [
              "Training:   0%|          | 0/194 [00:00<?, ?it/s]"
            ]
          },
          "metadata": {},
          "output_type": "display_data"
        },
        {
          "name": "stdout",
          "output_type": "stream",
          "text": [
            "Train MSE = 29.2779 | Valid MSE = 29.8271\n",
            "Train Time: 1m 27s\n",
            "\n",
            "=> Best Model Updated : Epoch = 3, Valid MSE = 29.8271\n",
            "\n",
            "[Epoch   4 / 50]\n"
          ]
        },
        {
          "data": {
            "application/vnd.jupyter.widget-view+json": {
              "model_id": "7c1fa64f65e143b7b3938d57014b7fbc",
              "version_major": 2,
              "version_minor": 0
            },
            "text/plain": [
              "Training:   0%|          | 0/194 [00:00<?, ?it/s]"
            ]
          },
          "metadata": {},
          "output_type": "display_data"
        },
        {
          "name": "stdout",
          "output_type": "stream",
          "text": [
            "Train MSE = 29.0704 | Valid MSE = 29.6116\n",
            "Train Time: 1m 25s\n",
            "\n",
            "=> Best Model Updated : Epoch = 4, Valid MSE = 29.6116\n",
            "\n",
            "[Epoch   5 / 50]\n"
          ]
        },
        {
          "data": {
            "application/vnd.jupyter.widget-view+json": {
              "model_id": "4281a6b72133479bb0dd276016619972",
              "version_major": 2,
              "version_minor": 0
            },
            "text/plain": [
              "Training:   0%|          | 0/194 [00:00<?, ?it/s]"
            ]
          },
          "metadata": {},
          "output_type": "display_data"
        },
        {
          "name": "stdout",
          "output_type": "stream",
          "text": [
            "Train MSE = 28.8484 | Valid MSE = 29.4001\n",
            "Train Time: 1m 27s\n",
            "\n",
            "=> Best Model Updated : Epoch = 5, Valid MSE = 29.4001\n",
            "\n",
            "[Epoch   6 / 50]\n"
          ]
        },
        {
          "data": {
            "application/vnd.jupyter.widget-view+json": {
              "model_id": "ad0e959311414f61b7b7da674fdfc9d3",
              "version_major": 2,
              "version_minor": 0
            },
            "text/plain": [
              "Training:   0%|          | 0/194 [00:00<?, ?it/s]"
            ]
          },
          "metadata": {},
          "output_type": "display_data"
        },
        {
          "name": "stdout",
          "output_type": "stream",
          "text": [
            "Train MSE = 28.6475 | Valid MSE = 29.1900\n",
            "Train Time: 1m 26s\n",
            "\n",
            "=> Best Model Updated : Epoch = 6, Valid MSE = 29.1900\n",
            "\n",
            "[Epoch   7 / 50]\n"
          ]
        },
        {
          "data": {
            "application/vnd.jupyter.widget-view+json": {
              "model_id": "dc06520e2de8496ea5ce4e56b1736c29",
              "version_major": 2,
              "version_minor": 0
            },
            "text/plain": [
              "Training:   0%|          | 0/194 [00:00<?, ?it/s]"
            ]
          },
          "metadata": {},
          "output_type": "display_data"
        },
        {
          "name": "stdout",
          "output_type": "stream",
          "text": [
            "Train MSE = 28.4458 | Valid MSE = 28.9817\n",
            "Train Time: 1m 27s\n",
            "\n",
            "=> Best Model Updated : Epoch = 7, Valid MSE = 28.9817\n",
            "\n",
            "[Epoch   8 / 50]\n"
          ]
        },
        {
          "data": {
            "application/vnd.jupyter.widget-view+json": {
              "model_id": "cf5ea953364146088fcef13cd1a222f1",
              "version_major": 2,
              "version_minor": 0
            },
            "text/plain": [
              "Training:   0%|          | 0/194 [00:00<?, ?it/s]"
            ]
          },
          "metadata": {},
          "output_type": "display_data"
        },
        {
          "name": "stdout",
          "output_type": "stream",
          "text": [
            "Train MSE = 28.2452 | Valid MSE = 28.7761\n",
            "Train Time: 1m 27s\n",
            "\n",
            "=> Best Model Updated : Epoch = 8, Valid MSE = 28.7761\n",
            "\n",
            "[Epoch   9 / 50]\n"
          ]
        },
        {
          "data": {
            "application/vnd.jupyter.widget-view+json": {
              "model_id": "ed627c18e2a543b5a0ff780e94afeb53",
              "version_major": 2,
              "version_minor": 0
            },
            "text/plain": [
              "Training:   0%|          | 0/194 [00:00<?, ?it/s]"
            ]
          },
          "metadata": {},
          "output_type": "display_data"
        },
        {
          "name": "stdout",
          "output_type": "stream",
          "text": [
            "Train MSE = 28.0468 | Valid MSE = 28.5724\n",
            "Train Time: 1m 28s\n",
            "\n",
            "=> Best Model Updated : Epoch = 9, Valid MSE = 28.5724\n",
            "\n",
            "[Epoch  10 / 50]\n"
          ]
        },
        {
          "data": {
            "application/vnd.jupyter.widget-view+json": {
              "model_id": "5da7df3bb11148409891a8a35a9143b3",
              "version_major": 2,
              "version_minor": 0
            },
            "text/plain": [
              "Training:   0%|          | 0/194 [00:00<?, ?it/s]"
            ]
          },
          "metadata": {},
          "output_type": "display_data"
        },
        {
          "name": "stdout",
          "output_type": "stream",
          "text": [
            "Train MSE = 27.8613 | Valid MSE = 28.3721\n",
            "Train Time: 1m 27s\n",
            "\n",
            "=> Best Model Updated : Epoch = 10, Valid MSE = 28.3721\n",
            "\n",
            "[Epoch  11 / 50]\n"
          ]
        },
        {
          "data": {
            "application/vnd.jupyter.widget-view+json": {
              "model_id": "caf165618e2f4402aa48465f64124200",
              "version_major": 2,
              "version_minor": 0
            },
            "text/plain": [
              "Training:   0%|          | 0/194 [00:00<?, ?it/s]"
            ]
          },
          "metadata": {},
          "output_type": "display_data"
        },
        {
          "name": "stdout",
          "output_type": "stream",
          "text": [
            "Train MSE = 27.6717 | Valid MSE = 28.1720\n",
            "Train Time: 1m 27s\n",
            "\n",
            "=> Best Model Updated : Epoch = 11, Valid MSE = 28.1720\n",
            "\n",
            "[Epoch  12 / 50]\n"
          ]
        },
        {
          "data": {
            "application/vnd.jupyter.widget-view+json": {
              "model_id": "ef170fbdbe774b11afed06cb4d289d52",
              "version_major": 2,
              "version_minor": 0
            },
            "text/plain": [
              "Training:   0%|          | 0/194 [00:00<?, ?it/s]"
            ]
          },
          "metadata": {},
          "output_type": "display_data"
        },
        {
          "name": "stdout",
          "output_type": "stream",
          "text": [
            "Train MSE = 27.5011 | Valid MSE = 27.9745\n",
            "Train Time: 1m 27s\n",
            "\n",
            "=> Best Model Updated : Epoch = 12, Valid MSE = 27.9745\n",
            "\n",
            "[Epoch  13 / 50]\n"
          ]
        },
        {
          "data": {
            "application/vnd.jupyter.widget-view+json": {
              "model_id": "ada5d680ede24c8b884708539348aa72",
              "version_major": 2,
              "version_minor": 0
            },
            "text/plain": [
              "Training:   0%|          | 0/194 [00:00<?, ?it/s]"
            ]
          },
          "metadata": {},
          "output_type": "display_data"
        },
        {
          "name": "stdout",
          "output_type": "stream",
          "text": [
            "Train MSE = 27.2898 | Valid MSE = 27.7781\n",
            "Train Time: 1m 27s\n",
            "\n",
            "=> Best Model Updated : Epoch = 13, Valid MSE = 27.7781\n",
            "\n",
            "[Epoch  14 / 50]\n"
          ]
        },
        {
          "data": {
            "application/vnd.jupyter.widget-view+json": {
              "model_id": "490d869e8e6d4397b457e04d5f441196",
              "version_major": 2,
              "version_minor": 0
            },
            "text/plain": [
              "Training:   0%|          | 0/194 [00:00<?, ?it/s]"
            ]
          },
          "metadata": {},
          "output_type": "display_data"
        },
        {
          "name": "stdout",
          "output_type": "stream",
          "text": [
            "Train MSE = 27.1152 | Valid MSE = 27.5848\n",
            "Train Time: 1m 27s\n",
            "\n",
            "=> Best Model Updated : Epoch = 14, Valid MSE = 27.5848\n",
            "\n",
            "[Epoch  15 / 50]\n"
          ]
        },
        {
          "data": {
            "application/vnd.jupyter.widget-view+json": {
              "model_id": "ef2b4a8ceb844140b31463fe752ff041",
              "version_major": 2,
              "version_minor": 0
            },
            "text/plain": [
              "Training:   0%|          | 0/194 [00:00<?, ?it/s]"
            ]
          },
          "metadata": {},
          "output_type": "display_data"
        },
        {
          "name": "stdout",
          "output_type": "stream",
          "text": [
            "Train MSE = 26.9064 | Valid MSE = 27.3926\n",
            "Train Time: 1m 26s\n",
            "\n",
            "=> Best Model Updated : Epoch = 15, Valid MSE = 27.3926\n",
            "\n",
            "[Epoch  16 / 50]\n"
          ]
        },
        {
          "data": {
            "application/vnd.jupyter.widget-view+json": {
              "model_id": "d23221a7158a47f68726d4037f13a7a2",
              "version_major": 2,
              "version_minor": 0
            },
            "text/plain": [
              "Training:   0%|          | 0/194 [00:00<?, ?it/s]"
            ]
          },
          "metadata": {},
          "output_type": "display_data"
        },
        {
          "name": "stdout",
          "output_type": "stream",
          "text": [
            "Train MSE = 26.7338 | Valid MSE = 27.2033\n",
            "Train Time: 1m 27s\n",
            "\n",
            "=> Best Model Updated : Epoch = 16, Valid MSE = 27.2033\n",
            "\n",
            "[Epoch  17 / 50]\n"
          ]
        },
        {
          "data": {
            "application/vnd.jupyter.widget-view+json": {
              "model_id": "2525e809d9fa438b8de33fc758e50974",
              "version_major": 2,
              "version_minor": 0
            },
            "text/plain": [
              "Training:   0%|          | 0/194 [00:00<?, ?it/s]"
            ]
          },
          "metadata": {},
          "output_type": "display_data"
        },
        {
          "name": "stdout",
          "output_type": "stream",
          "text": [
            "Train MSE = 26.5611 | Valid MSE = 27.0147\n",
            "Train Time: 1m 28s\n",
            "\n",
            "=> Best Model Updated : Epoch = 17, Valid MSE = 27.0147\n",
            "\n",
            "[Epoch  18 / 50]\n"
          ]
        },
        {
          "data": {
            "application/vnd.jupyter.widget-view+json": {
              "model_id": "2f805bb6b4c5434693f1e3d9101b77ab",
              "version_major": 2,
              "version_minor": 0
            },
            "text/plain": [
              "Training:   0%|          | 0/194 [00:00<?, ?it/s]"
            ]
          },
          "metadata": {},
          "output_type": "display_data"
        },
        {
          "name": "stdout",
          "output_type": "stream",
          "text": [
            "Train MSE = 26.3868 | Valid MSE = 26.8280\n",
            "Train Time: 1m 26s\n",
            "\n",
            "=> Best Model Updated : Epoch = 18, Valid MSE = 26.8280\n",
            "\n",
            "[Epoch  19 / 50]\n"
          ]
        },
        {
          "data": {
            "application/vnd.jupyter.widget-view+json": {
              "model_id": "096ccd2915fb4b209996bd9f9c1e46e1",
              "version_major": 2,
              "version_minor": 0
            },
            "text/plain": [
              "Training:   0%|          | 0/194 [00:00<?, ?it/s]"
            ]
          },
          "metadata": {},
          "output_type": "display_data"
        },
        {
          "name": "stdout",
          "output_type": "stream",
          "text": [
            "Train MSE = 26.1995 | Valid MSE = 26.6430\n",
            "Train Time: 1m 27s\n",
            "\n",
            "=> Best Model Updated : Epoch = 19, Valid MSE = 26.6430\n",
            "\n",
            "[Epoch  20 / 50]\n"
          ]
        },
        {
          "data": {
            "application/vnd.jupyter.widget-view+json": {
              "model_id": "51abf91e50d541f08ca1e79730539ef9",
              "version_major": 2,
              "version_minor": 0
            },
            "text/plain": [
              "Training:   0%|          | 0/194 [00:00<?, ?it/s]"
            ]
          },
          "metadata": {},
          "output_type": "display_data"
        },
        {
          "name": "stdout",
          "output_type": "stream",
          "text": [
            "Train MSE = 26.0242 | Valid MSE = 26.4603\n",
            "Train Time: 1m 27s\n",
            "\n",
            "=> Best Model Updated : Epoch = 20, Valid MSE = 26.4603\n",
            "\n",
            "[Epoch  21 / 50]\n"
          ]
        },
        {
          "data": {
            "application/vnd.jupyter.widget-view+json": {
              "model_id": "de38d32261f84019adbd953d3f8d2877",
              "version_major": 2,
              "version_minor": 0
            },
            "text/plain": [
              "Training:   0%|          | 0/194 [00:00<?, ?it/s]"
            ]
          },
          "metadata": {},
          "output_type": "display_data"
        },
        {
          "name": "stdout",
          "output_type": "stream",
          "text": [
            "Train MSE = 25.8522 | Valid MSE = 26.2783\n",
            "Train Time: 1m 27s\n",
            "\n",
            "=> Best Model Updated : Epoch = 21, Valid MSE = 26.2783\n",
            "\n",
            "[Epoch  22 / 50]\n"
          ]
        },
        {
          "data": {
            "application/vnd.jupyter.widget-view+json": {
              "model_id": "98d2b41e55684a70ad17ff33b584a51e",
              "version_major": 2,
              "version_minor": 0
            },
            "text/plain": [
              "Training:   0%|          | 0/194 [00:00<?, ?it/s]"
            ]
          },
          "metadata": {},
          "output_type": "display_data"
        },
        {
          "name": "stdout",
          "output_type": "stream",
          "text": [
            "Train MSE = 25.6709 | Valid MSE = 26.0982\n",
            "Train Time: 1m 27s\n",
            "\n",
            "=> Best Model Updated : Epoch = 22, Valid MSE = 26.0982\n",
            "\n",
            "[Epoch  23 / 50]\n"
          ]
        },
        {
          "data": {
            "application/vnd.jupyter.widget-view+json": {
              "model_id": "0d547ae43f3242b1b2fe85cb30e1ff02",
              "version_major": 2,
              "version_minor": 0
            },
            "text/plain": [
              "Training:   0%|          | 0/194 [00:00<?, ?it/s]"
            ]
          },
          "metadata": {},
          "output_type": "display_data"
        },
        {
          "name": "stdout",
          "output_type": "stream",
          "text": [
            "Train MSE = 25.4953 | Valid MSE = 25.9204\n",
            "Train Time: 1m 27s\n",
            "\n",
            "=> Best Model Updated : Epoch = 23, Valid MSE = 25.9204\n",
            "\n",
            "[Epoch  24 / 50]\n"
          ]
        },
        {
          "data": {
            "application/vnd.jupyter.widget-view+json": {
              "model_id": "07d36c8b0c7b488faeb537449239338d",
              "version_major": 2,
              "version_minor": 0
            },
            "text/plain": [
              "Training:   0%|          | 0/194 [00:00<?, ?it/s]"
            ]
          },
          "metadata": {},
          "output_type": "display_data"
        },
        {
          "name": "stdout",
          "output_type": "stream",
          "text": [
            "Train MSE = 25.3434 | Valid MSE = 25.7430\n",
            "Train Time: 1m 27s\n",
            "\n",
            "=> Best Model Updated : Epoch = 24, Valid MSE = 25.7430\n",
            "\n",
            "[Epoch  25 / 50]\n"
          ]
        },
        {
          "data": {
            "application/vnd.jupyter.widget-view+json": {
              "model_id": "3e68ce49081f449abf3055d0ac540659",
              "version_major": 2,
              "version_minor": 0
            },
            "text/plain": [
              "Training:   0%|          | 0/194 [00:00<?, ?it/s]"
            ]
          },
          "metadata": {},
          "output_type": "display_data"
        },
        {
          "name": "stdout",
          "output_type": "stream",
          "text": [
            "Train MSE = 25.1817 | Valid MSE = 25.5686\n",
            "Train Time: 1m 27s\n",
            "\n",
            "=> Best Model Updated : Epoch = 25, Valid MSE = 25.5686\n",
            "\n",
            "[Epoch  26 / 50]\n"
          ]
        },
        {
          "data": {
            "application/vnd.jupyter.widget-view+json": {
              "model_id": "18eb2bb828294d249f47359cc9fe943e",
              "version_major": 2,
              "version_minor": 0
            },
            "text/plain": [
              "Training:   0%|          | 0/194 [00:00<?, ?it/s]"
            ]
          },
          "metadata": {},
          "output_type": "display_data"
        },
        {
          "name": "stdout",
          "output_type": "stream",
          "text": [
            "Train MSE = 24.9958 | Valid MSE = 25.3951\n",
            "Train Time: 1m 27s\n",
            "\n",
            "=> Best Model Updated : Epoch = 26, Valid MSE = 25.3951\n",
            "\n",
            "[Epoch  27 / 50]\n"
          ]
        },
        {
          "data": {
            "application/vnd.jupyter.widget-view+json": {
              "model_id": "08bef7344d4d44ff9d72a9e0aa603888",
              "version_major": 2,
              "version_minor": 0
            },
            "text/plain": [
              "Training:   0%|          | 0/194 [00:00<?, ?it/s]"
            ]
          },
          "metadata": {},
          "output_type": "display_data"
        },
        {
          "name": "stdout",
          "output_type": "stream",
          "text": [
            "Train MSE = 24.8700 | Valid MSE = 25.2244\n",
            "Train Time: 1m 27s\n",
            "\n",
            "=> Best Model Updated : Epoch = 27, Valid MSE = 25.2244\n",
            "\n",
            "[Epoch  28 / 50]\n"
          ]
        },
        {
          "data": {
            "application/vnd.jupyter.widget-view+json": {
              "model_id": "b0d97efb24fa4b71a50d6aeb3c38c8bf",
              "version_major": 2,
              "version_minor": 0
            },
            "text/plain": [
              "Training:   0%|          | 0/194 [00:00<?, ?it/s]"
            ]
          },
          "metadata": {},
          "output_type": "display_data"
        },
        {
          "name": "stdout",
          "output_type": "stream",
          "text": [
            "Train MSE = 24.6816 | Valid MSE = 25.0525\n",
            "Train Time: 1m 27s\n",
            "\n",
            "=> Best Model Updated : Epoch = 28, Valid MSE = 25.0525\n",
            "\n",
            "[Epoch  29 / 50]\n"
          ]
        },
        {
          "data": {
            "application/vnd.jupyter.widget-view+json": {
              "model_id": "7bfbb95b8d3c4cb2a1723a28479b03ec",
              "version_major": 2,
              "version_minor": 0
            },
            "text/plain": [
              "Training:   0%|          | 0/194 [00:00<?, ?it/s]"
            ]
          },
          "metadata": {},
          "output_type": "display_data"
        },
        {
          "name": "stdout",
          "output_type": "stream",
          "text": [
            "Train MSE = 24.5025 | Valid MSE = 24.8850\n",
            "Train Time: 1m 26s\n",
            "\n",
            "=> Best Model Updated : Epoch = 29, Valid MSE = 24.8850\n",
            "\n",
            "[Epoch  30 / 50]\n"
          ]
        },
        {
          "data": {
            "application/vnd.jupyter.widget-view+json": {
              "model_id": "8b217f3d3791493bb7b6c71895b9662e",
              "version_major": 2,
              "version_minor": 0
            },
            "text/plain": [
              "Training:   0%|          | 0/194 [00:00<?, ?it/s]"
            ]
          },
          "metadata": {},
          "output_type": "display_data"
        },
        {
          "name": "stdout",
          "output_type": "stream",
          "text": [
            "Train MSE = 24.3412 | Valid MSE = 24.7179\n",
            "Train Time: 1m 26s\n",
            "\n",
            "=> Best Model Updated : Epoch = 30, Valid MSE = 24.7179\n",
            "\n",
            "[Epoch  31 / 50]\n"
          ]
        },
        {
          "data": {
            "application/vnd.jupyter.widget-view+json": {
              "model_id": "add3b491e94245de8928613b90182017",
              "version_major": 2,
              "version_minor": 0
            },
            "text/plain": [
              "Training:   0%|          | 0/194 [00:00<?, ?it/s]"
            ]
          },
          "metadata": {},
          "output_type": "display_data"
        },
        {
          "name": "stdout",
          "output_type": "stream",
          "text": [
            "Train MSE = 24.1869 | Valid MSE = 24.5524\n",
            "Train Time: 1m 27s\n",
            "\n",
            "=> Best Model Updated : Epoch = 31, Valid MSE = 24.5524\n",
            "\n",
            "[Epoch  32 / 50]\n"
          ]
        },
        {
          "data": {
            "application/vnd.jupyter.widget-view+json": {
              "model_id": "7546addc08dd4030b130512e12fb66af",
              "version_major": 2,
              "version_minor": 0
            },
            "text/plain": [
              "Training:   0%|          | 0/194 [00:00<?, ?it/s]"
            ]
          },
          "metadata": {},
          "output_type": "display_data"
        },
        {
          "name": "stdout",
          "output_type": "stream",
          "text": [
            "Train MSE = 24.0315 | Valid MSE = 24.3885\n",
            "Train Time: 1m 27s\n",
            "\n",
            "=> Best Model Updated : Epoch = 32, Valid MSE = 24.3885\n",
            "\n",
            "[Epoch  33 / 50]\n"
          ]
        },
        {
          "data": {
            "application/vnd.jupyter.widget-view+json": {
              "model_id": "d61ef9c2691c4a29898704df55a1a895",
              "version_major": 2,
              "version_minor": 0
            },
            "text/plain": [
              "Training:   0%|          | 0/194 [00:00<?, ?it/s]"
            ]
          },
          "metadata": {},
          "output_type": "display_data"
        },
        {
          "name": "stdout",
          "output_type": "stream",
          "text": [
            "Train MSE = 23.8763 | Valid MSE = 24.2261\n",
            "Train Time: 1m 27s\n",
            "\n",
            "=> Best Model Updated : Epoch = 33, Valid MSE = 24.2261\n",
            "\n",
            "[Epoch  34 / 50]\n"
          ]
        },
        {
          "data": {
            "application/vnd.jupyter.widget-view+json": {
              "model_id": "abca66a339c94405adbe7c99859f7796",
              "version_major": 2,
              "version_minor": 0
            },
            "text/plain": [
              "Training:   0%|          | 0/194 [00:00<?, ?it/s]"
            ]
          },
          "metadata": {},
          "output_type": "display_data"
        },
        {
          "name": "stdout",
          "output_type": "stream",
          "text": [
            "Train MSE = 23.7208 | Valid MSE = 24.0648\n",
            "Train Time: 1m 27s\n",
            "\n",
            "=> Best Model Updated : Epoch = 34, Valid MSE = 24.0648\n",
            "\n",
            "[Epoch  35 / 50]\n"
          ]
        },
        {
          "data": {
            "application/vnd.jupyter.widget-view+json": {
              "model_id": "5657c1cb57a24b5eb7bddb939e9dcb31",
              "version_major": 2,
              "version_minor": 0
            },
            "text/plain": [
              "Training:   0%|          | 0/194 [00:00<?, ?it/s]"
            ]
          },
          "metadata": {},
          "output_type": "display_data"
        },
        {
          "name": "stdout",
          "output_type": "stream",
          "text": [
            "Train MSE = 23.5712 | Valid MSE = 23.9054\n",
            "Train Time: 1m 27s\n",
            "\n",
            "=> Best Model Updated : Epoch = 35, Valid MSE = 23.9054\n",
            "\n",
            "[Epoch  36 / 50]\n"
          ]
        },
        {
          "data": {
            "application/vnd.jupyter.widget-view+json": {
              "model_id": "a231dbfa673a4f2d99879c973eb81bab",
              "version_major": 2,
              "version_minor": 0
            },
            "text/plain": [
              "Training:   0%|          | 0/194 [00:00<?, ?it/s]"
            ]
          },
          "metadata": {},
          "output_type": "display_data"
        },
        {
          "name": "stdout",
          "output_type": "stream",
          "text": [
            "Train MSE = 23.4160 | Valid MSE = 23.7477\n",
            "Train Time: 1m 27s\n",
            "\n",
            "=> Best Model Updated : Epoch = 36, Valid MSE = 23.7477\n",
            "\n",
            "[Epoch  37 / 50]\n"
          ]
        },
        {
          "data": {
            "application/vnd.jupyter.widget-view+json": {
              "model_id": "66f9116dbb714f639eff673871dfe879",
              "version_major": 2,
              "version_minor": 0
            },
            "text/plain": [
              "Training:   0%|          | 0/194 [00:00<?, ?it/s]"
            ]
          },
          "metadata": {},
          "output_type": "display_data"
        },
        {
          "name": "stdout",
          "output_type": "stream",
          "text": [
            "Train MSE = 23.2675 | Valid MSE = 23.5907\n",
            "Train Time: 1m 27s\n",
            "\n",
            "=> Best Model Updated : Epoch = 37, Valid MSE = 23.5907\n",
            "\n",
            "[Epoch  38 / 50]\n"
          ]
        },
        {
          "data": {
            "application/vnd.jupyter.widget-view+json": {
              "model_id": "729f5884be9f465c8b7746b0050f1473",
              "version_major": 2,
              "version_minor": 0
            },
            "text/plain": [
              "Training:   0%|          | 0/194 [00:00<?, ?it/s]"
            ]
          },
          "metadata": {},
          "output_type": "display_data"
        },
        {
          "name": "stdout",
          "output_type": "stream",
          "text": [
            "Train MSE = 23.1328 | Valid MSE = 23.4361\n",
            "Train Time: 1m 27s\n",
            "\n",
            "=> Best Model Updated : Epoch = 38, Valid MSE = 23.4361\n",
            "\n",
            "[Epoch  39 / 50]\n"
          ]
        },
        {
          "data": {
            "application/vnd.jupyter.widget-view+json": {
              "model_id": "9622539eb04941d38003763030acd1d3",
              "version_major": 2,
              "version_minor": 0
            },
            "text/plain": [
              "Training:   0%|          | 0/194 [00:00<?, ?it/s]"
            ]
          },
          "metadata": {},
          "output_type": "display_data"
        },
        {
          "name": "stdout",
          "output_type": "stream",
          "text": [
            "Train MSE = 22.9787 | Valid MSE = 23.2823\n",
            "Train Time: 1m 27s\n",
            "\n",
            "=> Best Model Updated : Epoch = 39, Valid MSE = 23.2823\n",
            "\n",
            "[Epoch  40 / 50]\n"
          ]
        },
        {
          "data": {
            "application/vnd.jupyter.widget-view+json": {
              "model_id": "45668cabceac4f34b071321238ac23f6",
              "version_major": 2,
              "version_minor": 0
            },
            "text/plain": [
              "Training:   0%|          | 0/194 [00:00<?, ?it/s]"
            ]
          },
          "metadata": {},
          "output_type": "display_data"
        },
        {
          "name": "stdout",
          "output_type": "stream",
          "text": [
            "Train MSE = 22.8297 | Valid MSE = 23.1300\n",
            "Train Time: 1m 27s\n",
            "\n",
            "=> Best Model Updated : Epoch = 40, Valid MSE = 23.1300\n",
            "\n",
            "[Epoch  41 / 50]\n"
          ]
        },
        {
          "data": {
            "application/vnd.jupyter.widget-view+json": {
              "model_id": "992eec4a445a4ddfa97e6c6534965ef8",
              "version_major": 2,
              "version_minor": 0
            },
            "text/plain": [
              "Training:   0%|          | 0/194 [00:00<?, ?it/s]"
            ]
          },
          "metadata": {},
          "output_type": "display_data"
        },
        {
          "name": "stdout",
          "output_type": "stream",
          "text": [
            "Train MSE = 22.6916 | Valid MSE = 22.9799\n",
            "Train Time: 1m 27s\n",
            "\n",
            "=> Best Model Updated : Epoch = 41, Valid MSE = 22.9799\n",
            "\n",
            "[Epoch  42 / 50]\n"
          ]
        },
        {
          "data": {
            "application/vnd.jupyter.widget-view+json": {
              "model_id": "4d8ef1fccd3f46809632803c83e825e2",
              "version_major": 2,
              "version_minor": 0
            },
            "text/plain": [
              "Training:   0%|          | 0/194 [00:00<?, ?it/s]"
            ]
          },
          "metadata": {},
          "output_type": "display_data"
        },
        {
          "name": "stdout",
          "output_type": "stream",
          "text": [
            "Train MSE = 22.5369 | Valid MSE = 22.8305\n",
            "Train Time: 1m 26s\n",
            "\n",
            "=> Best Model Updated : Epoch = 42, Valid MSE = 22.8305\n",
            "\n",
            "[Epoch  43 / 50]\n"
          ]
        },
        {
          "data": {
            "application/vnd.jupyter.widget-view+json": {
              "model_id": "981ed6edcefa4caea26b2f95616c67a0",
              "version_major": 2,
              "version_minor": 0
            },
            "text/plain": [
              "Training:   0%|          | 0/194 [00:00<?, ?it/s]"
            ]
          },
          "metadata": {},
          "output_type": "display_data"
        },
        {
          "name": "stdout",
          "output_type": "stream",
          "text": [
            "Train MSE = 22.3923 | Valid MSE = 22.6824\n",
            "Train Time: 1m 27s\n",
            "\n",
            "=> Best Model Updated : Epoch = 43, Valid MSE = 22.6824\n",
            "\n",
            "[Epoch  44 / 50]\n"
          ]
        },
        {
          "data": {
            "application/vnd.jupyter.widget-view+json": {
              "model_id": "c16210ba8efb4439bfbb2d9bcc185ae1",
              "version_major": 2,
              "version_minor": 0
            },
            "text/plain": [
              "Training:   0%|          | 0/194 [00:00<?, ?it/s]"
            ]
          },
          "metadata": {},
          "output_type": "display_data"
        },
        {
          "name": "stdout",
          "output_type": "stream",
          "text": [
            "Train MSE = 22.2567 | Valid MSE = 22.5360\n",
            "Train Time: 1m 27s\n",
            "\n",
            "=> Best Model Updated : Epoch = 44, Valid MSE = 22.5360\n",
            "\n",
            "[Epoch  45 / 50]\n"
          ]
        },
        {
          "data": {
            "application/vnd.jupyter.widget-view+json": {
              "model_id": "af9306d42f0e47ceac4fe3006161e85d",
              "version_major": 2,
              "version_minor": 0
            },
            "text/plain": [
              "Training:   0%|          | 0/194 [00:00<?, ?it/s]"
            ]
          },
          "metadata": {},
          "output_type": "display_data"
        },
        {
          "name": "stdout",
          "output_type": "stream",
          "text": [
            "Train MSE = 22.1181 | Valid MSE = 22.3911\n",
            "Train Time: 1m 27s\n",
            "\n",
            "=> Best Model Updated : Epoch = 45, Valid MSE = 22.3911\n",
            "\n",
            "[Epoch  46 / 50]\n"
          ]
        },
        {
          "data": {
            "application/vnd.jupyter.widget-view+json": {
              "model_id": "2b83245dc14d48478ffe523b08f4583e",
              "version_major": 2,
              "version_minor": 0
            },
            "text/plain": [
              "Training:   0%|          | 0/194 [00:00<?, ?it/s]"
            ]
          },
          "metadata": {},
          "output_type": "display_data"
        },
        {
          "name": "stdout",
          "output_type": "stream",
          "text": [
            "Train MSE = 21.9702 | Valid MSE = 22.2472\n",
            "Train Time: 1m 27s\n",
            "\n",
            "=> Best Model Updated : Epoch = 46, Valid MSE = 22.2472\n",
            "\n",
            "[Epoch  47 / 50]\n"
          ]
        },
        {
          "data": {
            "application/vnd.jupyter.widget-view+json": {
              "model_id": "43f9c7c312ea4d1d8cb2bf137804c334",
              "version_major": 2,
              "version_minor": 0
            },
            "text/plain": [
              "Training:   0%|          | 0/194 [00:00<?, ?it/s]"
            ]
          },
          "metadata": {},
          "output_type": "display_data"
        },
        {
          "name": "stdout",
          "output_type": "stream",
          "text": [
            "Train MSE = 21.8298 | Valid MSE = 22.1049\n",
            "Train Time: 1m 26s\n",
            "\n",
            "=> Best Model Updated : Epoch = 47, Valid MSE = 22.1049\n",
            "\n",
            "[Epoch  48 / 50]\n"
          ]
        },
        {
          "data": {
            "application/vnd.jupyter.widget-view+json": {
              "model_id": "051b206d8bb0486e9f6fd174b77a5657",
              "version_major": 2,
              "version_minor": 0
            },
            "text/plain": [
              "Training:   0%|          | 0/194 [00:00<?, ?it/s]"
            ]
          },
          "metadata": {},
          "output_type": "display_data"
        },
        {
          "name": "stdout",
          "output_type": "stream",
          "text": [
            "Train MSE = 21.7053 | Valid MSE = 21.9643\n",
            "Train Time: 1m 26s\n",
            "\n",
            "=> Best Model Updated : Epoch = 48, Valid MSE = 21.9643\n",
            "\n",
            "[Epoch  49 / 50]\n"
          ]
        },
        {
          "data": {
            "application/vnd.jupyter.widget-view+json": {
              "model_id": "c4cee0bf4c1a44049e367a7d72ed7c48",
              "version_major": 2,
              "version_minor": 0
            },
            "text/plain": [
              "Training:   0%|          | 0/194 [00:00<?, ?it/s]"
            ]
          },
          "metadata": {},
          "output_type": "display_data"
        },
        {
          "name": "stdout",
          "output_type": "stream",
          "text": [
            "Train MSE = 21.5563 | Valid MSE = 21.8239\n",
            "Train Time: 1m 26s\n",
            "\n",
            "=> Best Model Updated : Epoch = 49, Valid MSE = 21.8239\n",
            "\n",
            "[Epoch  50 / 50]\n"
          ]
        },
        {
          "data": {
            "application/vnd.jupyter.widget-view+json": {
              "model_id": "348d2b11324a47d788f0832ffa633bc1",
              "version_major": 2,
              "version_minor": 0
            },
            "text/plain": [
              "Training:   0%|          | 0/194 [00:00<?, ?it/s]"
            ]
          },
          "metadata": {},
          "output_type": "display_data"
        },
        {
          "name": "stdout",
          "output_type": "stream",
          "text": [
            "Train MSE = 21.4393 | Valid MSE = 21.6854\n",
            "Train Time: 1m 26s\n",
            "\n",
            "=> Best Model Updated : Epoch = 50, Valid MSE = 21.6854\n",
            "\n",
            "\n",
            "Training Finished...!!\n",
            "\n",
            "Best Valid MSE : 21.69 at epoch 50\n",
            "Total Time: 79m 50s\n",
            "Model was trained on cuda!\n"
          ]
        }
      ],
      "source": [
        "model = Model(use_image=False)\n",
        "model.to(model.device)\n",
        "model.train_(epochs, lr, train_loader, valid_loader, save_every)"
      ]
    },
    {
      "cell_type": "code",
      "execution_count": 125,
      "metadata": {
        "id": "9--JTrRRKohy"
      },
      "outputs": [
        {
          "data": {
            "image/png": "[encoded data removed]",
            "text/plain": [
              "<Figure size 640x480 with 1 Axes>"
            ]
          },
          "metadata": {},
          "output_type": "display_data"
        },
        {
          "data": {
            "image/png": "[encoded data removed]",
            "text/plain": [
              "<Figure size 640x480 with 1 Axes>"
            ]
          },
          "metadata": {},
          "output_type": "display_data"
        }
      ],
      "source": [
        "model.plot()"
      ]
    },
    {
      "cell_type": "code",
      "execution_count": 126,
      "metadata": {},
      "outputs": [
        {
          "name": "stdout",
          "output_type": "stream",
          "text": [
            "Test MSE :  17.442346572875977\n"
          ]
        }
      ],
      "source": [
        "# test\n",
        "model.restore() # load best model during training\n",
        "pred_y, true_y = model.predict(test_loader)\n",
        "true_y = torch.FloatTensor(true_y)\n",
        "pred_y = torch.FloatTensor(pred_y)\n",
        "test_mse = model.criterion(pred_y, true_y)\n",
        "print('Test MSE : ',test_mse.item())"
      ]
    }
  ],
  "metadata": {
    "colab": {
      "provenance": []
    },
    "kernelspec": {
      "display_name": "Python 3",
      "name": "python3"
    },
    "language_info": {
      "codemirror_mode": {
        "name": "ipython",
        "version": 3
      },
      "file_extension": ".py",
      "mimetype": "text/x-python",
      "name": "python",
      "nbconvert_exporter": "python",
      "pygments_lexer": "ipython3",
      "version": "3.10.9"
    }
  },
  "nbformat": 4,
  "nbformat_minor": 0
}
