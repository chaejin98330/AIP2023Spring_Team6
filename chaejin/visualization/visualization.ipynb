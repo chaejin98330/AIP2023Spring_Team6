{
 "cells": [
  {
   "cell_type": "code",
   "execution_count": 18,
   "metadata": {},
   "outputs": [],
   "source": [
    "import pandas as pd\n",
    "import numpy as np\n",
    "import torch\n",
    "import torch.nn as nn\n",
    "import torch.nn.functional as F\n",
    "import torch.optim as optim\n",
    "from torch.utils.data import DataLoader, Dataset\n",
    "import time\n",
    "import tqdm\n",
    "from tqdm.notebook import tqdm as notebooktqdm\n",
    "import pickle\n",
    "from PIL import Image\n",
    "import timm\n",
    "import os\n",
    "# from google.colab import files"
   ]
  },
  {
   "cell_type": "code",
   "execution_count": 35,
   "metadata": {},
   "outputs": [],
   "source": [
    "data=pd.read_csv(\"samples/vid.csv\",index_col=0)"
   ]
  },
  {
   "cell_type": "code",
   "execution_count": 36,
   "metadata": {},
   "outputs": [],
   "source": [
    "with open(\"samples/title_doc2vec_10\",'rb') as f:\n",
    "    doc2vec=pickle.load(f)\n",
    "\n",
    "data_dict=dict()\n",
    "for row in doc2vec:\n",
    "    vid=row[0]\n",
    "    vec=row[1:]\n",
    "    data_dict[vid]=vec\n",
    "\n",
    "doc2vec = data_dict"
   ]
  },
  {
   "cell_type": "code",
   "execution_count": 37,
   "metadata": {},
   "outputs": [],
   "source": [
    "train_data = pd.read_csv('samples/train.csv')\n",
    "mean_period = train_data['period_day'].mean()\n",
    "std_period = train_data['period_day'].std()\n",
    "mean_subscriber = train_data['subscriber_count'].mean()\n",
    "std_subscriber = train_data['subscriber_count'].std()\n",
    "\n",
    "data['period_day'] = (data['period_day'] - mean_period) / std_period\n",
    "data['subscriber_count'] = (data['subscriber_count'] - mean_subscriber) / std_subscriber"
   ]
  },
  {
   "cell_type": "code",
   "execution_count": 29,
   "metadata": {},
   "outputs": [],
   "source": [
    "class YoutubeDataset(Dataset):\n",
    "    def __init__(self, data, doc2vec):\n",
    "        self.ids = list(data['video_id'])\n",
    "        self.titles = doc2vec # pretrained doc2vec features\n",
    "        self.data = data # video_id, metadata, views(y) from csv file\n",
    "        self.device = \"mps\"\n",
    "        self.image_encoder = timm.create_model('efficientnet_b1_pruned', features_only =True, pretrained=True)\n",
    "        model = timm.create_model('efficientnet_b1_pruned', pretrained=True)\n",
    "        data_cfg = timm.data.resolve_data_config(model.pretrained_cfg)\n",
    "        self.transform = timm.data.create_transform(**data_cfg)\n",
    "\n",
    "    def __len__(self):\n",
    "        return len(self.ids)\n",
    "\n",
    "    def __getitem__(self, idx):\n",
    "        # index order of video_id, meta, y are same\n",
    "        video_id = self.ids[idx]\n",
    "        \n",
    "        image = Image.open( 'samples/{}.jpg'.format(video_id))\n",
    "        image = self.transform(image)\n",
    "        # image = torch.FloatTensor(np.array(image)).permute(2, 0, 1).unsqueeze(dim=0)\n",
    "        self.image_encoder.eval()\n",
    "        feature_map = self.image_encoder(torch.unsqueeze(image,0))[-1].squeeze() # (320,6,10)\n",
    "        \n",
    "        title = self.titles[video_id] # get video title\n",
    "        title = torch.FloatTensor(np.array(title, dtype=np.float16))\n",
    "        \n",
    "        meta = torch.FloatTensor(self.data[['period_day', 'subscriber_count']].to_numpy()[idx]) # get metadata\n",
    "        \n",
    "        y = np.log10(self.data['views'].to_numpy() + 1) # add 1 for zero views\n",
    "        y = np.expand_dims(y, axis=1) # add batch dimension\n",
    "        y = torch.FloatTensor(y[idx]) # get log10(views+1) by idx value\n",
    "        \n",
    "        return video_id, feature_map, title, meta, y"
   ]
  },
  {
   "cell_type": "code",
   "execution_count": 54,
   "metadata": {},
   "outputs": [],
   "source": [
    "class Model(nn.Module):\n",
    "    def __init__(self):\n",
    "        super(Model, self).__init__()\n",
    "        self.device = \"mps\"\n",
    "        self.feature_map_channel = 320\n",
    "        self.feature_map_h = 6\n",
    "        self.feature_map_w = 10\n",
    "        self.criterion = nn.MSELoss()\n",
    "        self.efficient_net_channel1 = 1280\n",
    "        self.efficient_net_channel2 = 1000\n",
    "\n",
    "        # image squeezing\n",
    "        self.img_squeeze_channel1 = self.efficient_net_channel2\n",
    "        self.img_squeeze_channel2 = 2000\n",
    "        self.img_squeeze_channel3 = 1000\n",
    "        self.img_squeeze_channel4 = 500\n",
    "        self.img_squeeze_channel_out = 100\n",
    "\n",
    "        # title squeezing\n",
    "        self.title_feature_channel = 10\n",
    "        self.title_squeeze_channel1 = 200\n",
    "        self.title_squeeze_channel2 = 100\n",
    "        self.title_squeeze_channel3 = 50\n",
    "        self.title_squeeze_channel_out = 10\n",
    "\n",
    "        # meta sqeezing\n",
    "        self.final_squeeze1 = 20\n",
    "        self.final_squeeze2 = 20\n",
    "        self.final_squeeze3 = 10\n",
    "        self.final_squeeze3 = 5\n",
    "        self.out_channel = 1\n",
    "        \n",
    "        # efficient net\n",
    "        self.effi1 = nn.Conv2d(self.feature_map_channel, self.efficient_net_channel1, kernel_size=(1,1), stride=(1,1), bias=False)\n",
    "        self.effi2 = nn.BatchNorm2d(self.efficient_net_channel1, eps=0.001, momentum=0.1, affine=True, track_running_stats=True)\n",
    "        self.effi3 = nn.SiLU(inplace=True)\n",
    "        self.effi4 = nn.AdaptiveAvgPool2d((1,1))\n",
    "        self.effi5 = nn.Linear(self.efficient_net_channel1, self.efficient_net_channel2)\n",
    "        \n",
    "        # sqeeze img features\n",
    "        self.img_squeeze_fc1 = nn.Linear(self.img_squeeze_channel1, self.img_squeeze_channel2)\n",
    "        self.img_squeeze_fc2 = nn.Linear(self.img_squeeze_channel2, self.img_squeeze_channel3)\n",
    "        self.img_squeeze_fc3 = nn.Linear(self.img_squeeze_channel3, self.img_squeeze_channel4)\n",
    "        self.img_squeeze_fc_out = nn.Linear(self.img_squeeze_channel4, self.img_squeeze_channel_out)\n",
    " \n",
    "        # sqeeze img and title features\n",
    "        self.title_squeeze_fc1 = nn.Linear(self.img_squeeze_channel_out+self.title_feature_channel, self.title_squeeze_channel1)\n",
    "        self.title_squeeze_fc2 = nn.Linear(self.title_squeeze_channel1, self.title_squeeze_channel2)\n",
    "        self.title_squeeze_fc3 = nn.Linear(self.title_squeeze_channel2, self.title_squeeze_channel3)\n",
    "        self.title_squeeze_fc_out = nn.Linear(self.title_squeeze_channel3, self.title_squeeze_channel_out)\n",
    "\n",
    "        # sqeeze whole datas\n",
    "        self.final_concat_fc1 = nn.Linear(self.title_squeeze_channel_out+2, self.final_squeeze1)\n",
    "        self.final_concat_fc2 = nn.Linear(self.final_squeeze1, self.final_squeeze2)\n",
    "        self.final_concat_fc3 = nn.Linear(self.final_squeeze2, self.final_squeeze3)\n",
    "        self.final_concat_fc_out = nn.Linear(self.final_squeeze3, self.out_channel)\n",
    " \n",
    "        self.relu = nn.ReLU()\n",
    "        self.dropout = nn.Dropout(0.3)\n",
    "\n",
    "        self.to(self.device)\n",
    "    \n",
    "    def forward(self, feature_map, title, meta):\n",
    "        feature_map = feature_map.to(self.device)\n",
    "        title = title.to(self.device)\n",
    "        meta = meta.to(self.device)\n",
    "\n",
    "        x = self.effi1(feature_map)\n",
    "        x = self.effi2(x)\n",
    "        x = self.effi3(x)\n",
    "        x = torch.squeeze(self.effi4(x), dim=(2,3))\n",
    "        x = self.effi5(x)\n",
    "\n",
    "        \n",
    "\n",
    "        x = self.img_squeeze_fc1(x)\n",
    "        x = self.dropout(x)\n",
    "        x = self.relu(x)\n",
    "\n",
    "        x = self.img_squeeze_fc2(x)\n",
    "        x = self.dropout(x)\n",
    "        x = self.relu(x)\n",
    "\n",
    "        x = self.img_squeeze_fc3(x)\n",
    "        x = self.dropout(x)\n",
    "        x = self.relu(x)\n",
    "\n",
    "        x = self.img_squeeze_fc_out(x)\n",
    "        x = self.dropout(x)\n",
    "        x = self.relu(x)\n",
    "\n",
    "\n",
    "\n",
    "        img_title_feature = torch.cat([x, title], dim=1)\n",
    "        img_title_feature = self.title_squeeze_fc1(img_title_feature)\n",
    "        img_title_feature = self.dropout(img_title_feature)\n",
    "        img_title_feature = self.relu(img_title_feature)\n",
    "\n",
    "        img_title_feature = self.title_squeeze_fc2(img_title_feature)\n",
    "        img_title_feature = self.dropout(img_title_feature)\n",
    "        img_title_feature = self.relu(img_title_feature)\n",
    "\n",
    "        img_title_feature = self.title_squeeze_fc3(img_title_feature)\n",
    "        img_title_feature = self.dropout(img_title_feature)\n",
    "        img_title_feature = self.relu(img_title_feature)\n",
    "\n",
    "        img_title_feature = self.title_squeeze_fc_out(img_title_feature)\n",
    "        img_title_feature = self.dropout(img_title_feature)\n",
    "        img_title_feature = self.relu(img_title_feature)\n",
    "\n",
    "\n",
    "\n",
    "        whole_feature = torch.cat([img_title_feature, meta], dim=1)\n",
    "        whole_feature = self.final_concat_fc1(whole_feature)\n",
    "        whole_feature = self.dropout(whole_feature)\n",
    "        whole_feature = self.relu(whole_feature)\n",
    "\n",
    "        whole_feature = self.final_concat_fc2(whole_feature)\n",
    "        whole_feature = self.dropout(whole_feature)\n",
    "        whole_feature = self.relu(whole_feature)\n",
    "\n",
    "        whole_feature = self.final_concat_fc3(whole_feature)\n",
    "        whole_feature = self.dropout(whole_feature)\n",
    "        whole_feature = self.relu(whole_feature)\n",
    "\n",
    "        x = self.final_concat_fc_out(whole_feature)\n",
    "        return x\n",
    "\n",
    "    def train_(self, epochs, lr, train_loader, valid_loader, save_every):\n",
    "        self.criterion = nn.MSELoss()\n",
    "        self.optimizer = optim.Adam(self.parameters(), lr=lr)\n",
    "\n",
    "        self.train_loss = []\n",
    "        self.valid_loss = []\n",
    "\n",
    "        best_mse = 1e100\n",
    "        best_epoch = 1\n",
    "\n",
    "        train_start = time.time()\n",
    "\n",
    "        print(\"Model will be trained on {}\\n\".format(self.device))\n",
    "\n",
    "        for epoch in range(1, epochs + 1):\n",
    "            self.train()\n",
    "            print(\"[Epoch {:3d} / {}]\".format(epoch, epochs))\n",
    "\n",
    "            epoch_start = time.time()\n",
    "            epoch_loss = 0.0\n",
    "            self.to(self.device)\n",
    "            #training\n",
    "            for batch_idx, batch_data in enumerate(notebooktqdm(train_loader, desc=\"Training\")):\n",
    "                batch_video_id, batch_image, batch_title, batch_meta, batch_target = batch_data\n",
    "                batch_target = batch_target.to(self.device)\n",
    "                \n",
    "                self.optimizer.zero_grad()\n",
    "                output = self.forward(batch_image, batch_title, batch_meta)\n",
    "                loss = self.criterion(output, batch_target)\n",
    "                loss.backward()\n",
    "                self.optimizer.step()\n",
    "\n",
    "                epoch_loss += loss.item()\n",
    "\n",
    "            epoch_end = time.time()\n",
    "            m, s = divmod(epoch_end - epoch_start, 60)\n",
    "\n",
    "            epoch_loss /= len(train_loader)\n",
    "            self.train_loss.append(epoch_loss)\n",
    "            \n",
    "            #validation\n",
    "            with torch.no_grad():\n",
    "                self.eval()\n",
    "                true_y, pred_y = self.predict(valid_loader)                \n",
    "                true_y = torch.FloatTensor(true_y)\n",
    "                pred_y = torch.FloatTensor(pred_y)\n",
    "                valid_loss = self.criterion(pred_y, true_y)\n",
    "                self.valid_loss.append(valid_loss.item())\n",
    "\n",
    "            print(\"Train MSE = {:.4f} | Valid MSE = {:.4f}\".format(epoch_loss, valid_loss))\n",
    "            print(f\"Train Time: {m:.0f}m {s:.0f}s\\n\")\n",
    "\n",
    "            valid_mse = valid_loss.item()\n",
    "            if best_mse > valid_mse:\n",
    "                print(\"=> Best Model Updated : Epoch = {}, Valid MSE = {:.4f}\\n\".format(epoch, valid_mse))\n",
    "                best_mse = valid_mse\n",
    "                best_epoch = epoch\n",
    "                torch.save(self.state_dict(), \"./model/best_model_epoch{}.pt\".format(epoch))\n",
    "            else:\n",
    "                print()\n",
    "\n",
    "            # save model for every ? epoch\n",
    "            if (epoch % save_every) == 0:\n",
    "                torch.save(self.state_dict(),\"./model/epoch{}_train{:.4f}_valid{:.4f}.pt\".format(epoch, epoch_loss, valid_mse))\n",
    "\n",
    "        m, s = divmod(time.time() - train_start, 60)\n",
    "        print(\"\\nTraining Finished...!!\")\n",
    "        print(\"\\nBest Valid MSE : %.2f at epoch %d\" % (best_mse, best_epoch))\n",
    "        print(f\"Total Time: {m:.0f}m {s:.0f}s\\nModel was trained on {self.device}!\")\n",
    "\n",
    "        torch.save(self.state_dict(),\"./model/epoch{}_train{:.4f}_valid{:.4f}.pt\".format(epoch, epoch_loss, valid_mse))\n",
    "    \n",
    "    def restore(self):\n",
    "        with open(\"best_model_ours.pt\", \"rb\") as f:\n",
    "            state_dict = torch.load(f, map_location=self.device)\n",
    "        self.load_state_dict(state_dict)\n",
    "\n",
    "    def predict(self, dataloader):\n",
    "        self.to(self.device)\n",
    "        with torch.no_grad():\n",
    "            self.eval()\n",
    "            true_y = []\n",
    "            pred_y = []\n",
    "            for batch_video_id, batch_image, batch_title, batch_meta, batch_target in dataloader:\n",
    "                batch_image = batch_image.to(self.device)\n",
    "                batch_title = batch_title.to(self.device)\n",
    "                batch_meta = batch_meta.to(self.device)\n",
    "                pred = self.forward(batch_image, batch_title, batch_meta)\n",
    "                true_y.append(batch_target.numpy())\n",
    "                pred_y.append(pred.cpu().numpy())\n",
    "            pred_y = np.concatenate(pred_y, axis=0)\n",
    "            true_y = np.concatenate(true_y, axis=0)\n",
    "        return true_y, pred_y #numpy array"
   ]
  },
  {
   "cell_type": "code",
   "execution_count": 71,
   "metadata": {},
   "outputs": [],
   "source": [
    "sample_data=YoutubeDataset(data,doc2vec)\n",
    "batch_video_id, batch_image, batch_title, batch_meta, batch_target = next(iter(sample_data))"
   ]
  },
  {
   "cell_type": "code",
   "execution_count": 68,
   "metadata": {},
   "outputs": [
    {
     "data": {
      "text/plain": [
       "('2wju6hCBumI',\n",
       " torch.Size([320, 8, 8]),\n",
       " tensor([-2.5039, -0.5117, -0.4504, -3.3105, -2.1641,  2.3809,  0.0034, -0.6577,\n",
       "          2.1406, -2.6133]),\n",
       " tensor([-0.1309, -0.3901]),\n",
       " tensor([5.5493]))"
      ]
     },
     "execution_count": 68,
     "metadata": {},
     "output_type": "execute_result"
    }
   ],
   "source": [
    "batch_video_id, batch_image.shape, batch_title, batch_meta, batch_target"
   ]
  },
  {
   "cell_type": "code",
   "execution_count": 15,
   "metadata": {},
   "outputs": [],
   "source": [
    "model = Model()\n",
    "model.restore() # load best model during training"
   ]
  },
  {
   "cell_type": "code",
   "execution_count": 61,
   "metadata": {},
   "outputs": [
    {
     "data": {
      "text/plain": [
       "tensor([[4.8945]], device='mps:0', grad_fn=<LinearBackward0>)"
      ]
     },
     "execution_count": 61,
     "metadata": {},
     "output_type": "execute_result"
    }
   ],
   "source": [
    "out=model.forward(batch_image.reshape(1,320,8,8), batch_title.reshape(1,-1), batch_meta.reshape(1,-1))\n",
    "out"
   ]
  },
  {
   "cell_type": "code",
   "execution_count": 72,
   "metadata": {},
   "outputs": [
    {
     "data": {
      "text/plain": [
       "tensor([-0.6399, -0.3901])"
      ]
     },
     "execution_count": 72,
     "metadata": {},
     "output_type": "execute_result"
    }
   ],
   "source": [
    "batch_meta[0] = std_period*batch_meta[0]+mean_period\n",
    "batch_meta[0] = (0-mean_period)/std_period\n",
    "batch_meta"
   ]
  },
  {
   "cell_type": "code",
   "execution_count": 73,
   "metadata": {},
   "outputs": [
    {
     "data": {
      "text/plain": [
       "tensor([[4.9011]], device='mps:0', grad_fn=<LinearBackward0>)"
      ]
     },
     "execution_count": 73,
     "metadata": {},
     "output_type": "execute_result"
    }
   ],
   "source": [
    "out=model.forward(batch_image.reshape(1,320,8,8), batch_title.reshape(1,-1), batch_meta.reshape(1,-1))\n",
    "out"
   ]
  },
  {
   "cell_type": "code",
   "execution_count": null,
   "metadata": {},
   "outputs": [],
   "source": []
  }
 ],
 "metadata": {
  "kernelspec": {
   "display_name": "nightly",
   "language": "python",
   "name": "python3"
  },
  "language_info": {
   "codemirror_mode": {
    "name": "ipython",
    "version": 3
   },
   "file_extension": ".py",
   "mimetype": "text/x-python",
   "name": "python",
   "nbconvert_exporter": "python",
   "pygments_lexer": "ipython3",
   "version": "3.11.3"
  },
  "orig_nbformat": 4
 },
 "nbformat": 4,
 "nbformat_minor": 2
}
